{
  "nbformat": 4,
  "nbformat_minor": 0,
  "metadata": {
    "colab": {
      "name": "Amazon NLTK Baseline Model - V4.ipynb",
      "version": "0.3.2",
      "provenance": [],
      "include_colab_link": true
    },
    "kernelspec": {
      "name": "python3",
      "display_name": "Python 3"
    }
  },
  "cells": [
    {
      "cell_type": "markdown",
      "metadata": {
        "id": "view-in-github",
        "colab_type": "text"
      },
      "source": [
        "[View in Colaboratory](https://colab.research.google.com/github/awenare/xyhacker/blob/master/Amazon_NLTK_Baseline_Model_V4.ipynb)"
      ]
    },
    {
      "metadata": {
        "id": "-Y8p7QjCef1O",
        "colab_type": "code",
        "colab": {}
      },
      "cell_type": "code",
      "source": [
        "import numpy as np\n",
        "import pandas as pd"
      ],
      "execution_count": 0,
      "outputs": []
    },
    {
      "metadata": {
        "id": "ibZ-nEfQc-HQ",
        "colab_type": "code",
        "colab": {
          "base_uri": "https://localhost:8080/",
          "height": 51
        },
        "outputId": "88ca780c-7d11-4e7d-863c-9bb3c9930152"
      },
      "cell_type": "code",
      "source": [
        "!wget -nc https://www.dropbox.com/s/gp1vslen8vnzvvl/genders_data.csv?raw=1"
      ],
      "execution_count": 2,
      "outputs": [
        {
          "output_type": "stream",
          "text": [
            "\n",
            "Redirecting output to ‘wget-log’.\n"
          ],
          "name": "stdout"
        }
      ]
    },
    {
      "metadata": {
        "id": "uw8zNdLgegRx",
        "colab_type": "code",
        "colab": {
          "base_uri": "https://localhost:8080/",
          "height": 238
        },
        "outputId": "f65ad129-850b-47e2-828e-141555e38fe7"
      },
      "cell_type": "code",
      "source": [
        "df = pd.read_csv('genders_data.csv?raw=1', index_col = 0)\n",
        "df.head()"
      ],
      "execution_count": 3,
      "outputs": [
        {
          "output_type": "stream",
          "text": [
            "/usr/local/lib/python3.6/dist-packages/numpy/lib/arraysetops.py:472: FutureWarning: elementwise comparison failed; returning scalar instead, but in the future will perform elementwise comparison\n",
            "  mask |= (ar1 == a)\n"
          ],
          "name": "stderr"
        },
        {
          "output_type": "execute_result",
          "data": {
            "text/html": [
              "<div>\n",
              "<style scoped>\n",
              "    .dataframe tbody tr th:only-of-type {\n",
              "        vertical-align: middle;\n",
              "    }\n",
              "\n",
              "    .dataframe tbody tr th {\n",
              "        vertical-align: top;\n",
              "    }\n",
              "\n",
              "    .dataframe thead th {\n",
              "        text-align: right;\n",
              "    }\n",
              "</style>\n",
              "<table border=\"1\" class=\"dataframe\">\n",
              "  <thead>\n",
              "    <tr style=\"text-align: right;\">\n",
              "      <th></th>\n",
              "      <th>names</th>\n",
              "      <th>review</th>\n",
              "      <th>summary</th>\n",
              "      <th>gender</th>\n",
              "    </tr>\n",
              "  </thead>\n",
              "  <tbody>\n",
              "    <tr>\n",
              "      <th>0</th>\n",
              "      <td>gsxrgirl</td>\n",
              "      <td>No sugar, no GMO garbage, no fillers that come...</td>\n",
              "      <td>Best vanilla I've ever had</td>\n",
              "      <td>unknown</td>\n",
              "    </tr>\n",
              "    <tr>\n",
              "      <th>1</th>\n",
              "      <td>FIFA Lvr</td>\n",
              "      <td>This is my absolute, undisputed favorite tea r...</td>\n",
              "      <td>Terrific Tea!</td>\n",
              "      <td>unknown</td>\n",
              "    </tr>\n",
              "    <tr>\n",
              "      <th>2</th>\n",
              "      <td>Alicia b</td>\n",
              "      <td>I ordered spongbob slippers and I got John Cen...</td>\n",
              "      <td>grrrrrrr</td>\n",
              "      <td>female</td>\n",
              "    </tr>\n",
              "    <tr>\n",
              "      <th>3</th>\n",
              "      <td>Danny K. Tilley \"Dan Tilley\"</td>\n",
              "      <td>The cart is fine and works for the purpose for...</td>\n",
              "      <td>Storage on Wheels Cart</td>\n",
              "      <td>male</td>\n",
              "    </tr>\n",
              "    <tr>\n",
              "      <th>4</th>\n",
              "      <td>CHelmic</td>\n",
              "      <td>This product by Archer Farms is the best drink...</td>\n",
              "      <td>The best drink mix</td>\n",
              "      <td>unknown</td>\n",
              "    </tr>\n",
              "  </tbody>\n",
              "</table>\n",
              "</div>"
            ],
            "text/plain": [
              "                          names  \\\n",
              "0                      gsxrgirl   \n",
              "1                      FIFA Lvr   \n",
              "2                      Alicia b   \n",
              "3  Danny K. Tilley \"Dan Tilley\"   \n",
              "4                       CHelmic   \n",
              "\n",
              "                                              review  \\\n",
              "0  No sugar, no GMO garbage, no fillers that come...   \n",
              "1  This is my absolute, undisputed favorite tea r...   \n",
              "2  I ordered spongbob slippers and I got John Cen...   \n",
              "3  The cart is fine and works for the purpose for...   \n",
              "4  This product by Archer Farms is the best drink...   \n",
              "\n",
              "                      summary   gender  \n",
              "0  Best vanilla I've ever had  unknown  \n",
              "1               Terrific Tea!  unknown  \n",
              "2                    grrrrrrr   female  \n",
              "3      Storage on Wheels Cart     male  \n",
              "4          The best drink mix  unknown  "
            ]
          },
          "metadata": {
            "tags": []
          },
          "execution_count": 3
        }
      ]
    },
    {
      "metadata": {
        "id": "6fK_BXpee9-C",
        "colab_type": "code",
        "colab": {}
      },
      "cell_type": "code",
      "source": [
        "df.drop(df[df.gender == 'unknown'].index, inplace=True) #In simple terms, index() method finds the given element in a list and returns its position.\n",
        "df.reset_index(inplace = True)\n",
        "df.head()\n",
        "df.dropna(inplace = True)"
      ],
      "execution_count": 0,
      "outputs": []
    },
    {
      "metadata": {
        "id": "daU_i1xbWRsY",
        "colab_type": "code",
        "colab": {
          "base_uri": "https://localhost:8080/",
          "height": 204
        },
        "outputId": "77481e4e-7c64-475e-eba3-a2138146b930"
      },
      "cell_type": "code",
      "source": [
        "new_df = df.drop(columns  = ['index'])\n",
        "new_df.head()"
      ],
      "execution_count": 5,
      "outputs": [
        {
          "output_type": "execute_result",
          "data": {
            "text/html": [
              "<div>\n",
              "<style scoped>\n",
              "    .dataframe tbody tr th:only-of-type {\n",
              "        vertical-align: middle;\n",
              "    }\n",
              "\n",
              "    .dataframe tbody tr th {\n",
              "        vertical-align: top;\n",
              "    }\n",
              "\n",
              "    .dataframe thead th {\n",
              "        text-align: right;\n",
              "    }\n",
              "</style>\n",
              "<table border=\"1\" class=\"dataframe\">\n",
              "  <thead>\n",
              "    <tr style=\"text-align: right;\">\n",
              "      <th></th>\n",
              "      <th>names</th>\n",
              "      <th>review</th>\n",
              "      <th>summary</th>\n",
              "      <th>gender</th>\n",
              "    </tr>\n",
              "  </thead>\n",
              "  <tbody>\n",
              "    <tr>\n",
              "      <th>0</th>\n",
              "      <td>Alicia b</td>\n",
              "      <td>I ordered spongbob slippers and I got John Cen...</td>\n",
              "      <td>grrrrrrr</td>\n",
              "      <td>female</td>\n",
              "    </tr>\n",
              "    <tr>\n",
              "      <th>1</th>\n",
              "      <td>Danny K. Tilley \"Dan Tilley\"</td>\n",
              "      <td>The cart is fine and works for the purpose for...</td>\n",
              "      <td>Storage on Wheels Cart</td>\n",
              "      <td>male</td>\n",
              "    </tr>\n",
              "    <tr>\n",
              "      <th>2</th>\n",
              "      <td>Trevor L \"God is on the side of the army with...</td>\n",
              "      <td>My wife picked some of this up on sale.  I usu...</td>\n",
              "      <td>Tastes a Bit  like Cough Syrup</td>\n",
              "      <td>male</td>\n",
              "    </tr>\n",
              "    <tr>\n",
              "      <th>3</th>\n",
              "      <td>Mary S \"one800mary\"</td>\n",
              "      <td>I had a martini at a local distillery that use...</td>\n",
              "      <td>Interesting bitters</td>\n",
              "      <td>female</td>\n",
              "    </tr>\n",
              "    <tr>\n",
              "      <th>4</th>\n",
              "      <td>Jon Stoffel</td>\n",
              "      <td>And they're pretty nice! One set looks like ic...</td>\n",
              "      <td>They're dice!</td>\n",
              "      <td>male</td>\n",
              "    </tr>\n",
              "  </tbody>\n",
              "</table>\n",
              "</div>"
            ],
            "text/plain": [
              "                                              names  \\\n",
              "0                                          Alicia b   \n",
              "1                      Danny K. Tilley \"Dan Tilley\"   \n",
              "2  Trevor L \"God is on the side of the army with...   \n",
              "3                               Mary S \"one800mary\"   \n",
              "4                                       Jon Stoffel   \n",
              "\n",
              "                                              review  \\\n",
              "0  I ordered spongbob slippers and I got John Cen...   \n",
              "1  The cart is fine and works for the purpose for...   \n",
              "2  My wife picked some of this up on sale.  I usu...   \n",
              "3  I had a martini at a local distillery that use...   \n",
              "4  And they're pretty nice! One set looks like ic...   \n",
              "\n",
              "                          summary  gender  \n",
              "0                        grrrrrrr  female  \n",
              "1          Storage on Wheels Cart    male  \n",
              "2  Tastes a Bit  like Cough Syrup    male  \n",
              "3             Interesting bitters  female  \n",
              "4                   They're dice!    male  "
            ]
          },
          "metadata": {
            "tags": []
          },
          "execution_count": 5
        }
      ]
    },
    {
      "metadata": {
        "id": "Cp0wS_8yW6V2",
        "colab_type": "code",
        "colab": {
          "base_uri": "https://localhost:8080/",
          "height": 119
        },
        "outputId": "ed722c51-ce16-42c1-af38-0511739e602c"
      },
      "cell_type": "code",
      "source": [
        "df.count()"
      ],
      "execution_count": 6,
      "outputs": [
        {
          "output_type": "execute_result",
          "data": {
            "text/plain": [
              "index      618852\n",
              "names      618852\n",
              "review     618852\n",
              "summary    618852\n",
              "gender     618852\n",
              "dtype: int64"
            ]
          },
          "metadata": {
            "tags": []
          },
          "execution_count": 6
        }
      ]
    },
    {
      "metadata": {
        "id": "CvzdQKaWW7aV",
        "colab_type": "code",
        "colab": {}
      },
      "cell_type": "code",
      "source": [
        "chunk = new_df[:10000]"
      ],
      "execution_count": 0,
      "outputs": []
    },
    {
      "metadata": {
        "id": "l1YT7BLtW7dy",
        "colab_type": "code",
        "colab": {}
      },
      "cell_type": "code",
      "source": [
        "review_chunk = chunk['review']"
      ],
      "execution_count": 0,
      "outputs": []
    },
    {
      "metadata": {
        "id": "eYQ51oQeYnpM",
        "colab_type": "text"
      },
      "cell_type": "markdown",
      "source": [
        "# NLTK "
      ]
    },
    {
      "metadata": {
        "id": "xa39vEYfW7hG",
        "colab_type": "code",
        "colab": {
          "base_uri": "https://localhost:8080/",
          "height": 119
        },
        "outputId": "55f82e18-fc36-4d23-e1f1-4bc0621ac71a"
      },
      "cell_type": "code",
      "source": [
        "import nltk\n",
        "nltk.download('punkt')\n",
        "nltk.download('averaged_perceptron_tagger')"
      ],
      "execution_count": 9,
      "outputs": [
        {
          "output_type": "stream",
          "text": [
            "[nltk_data] Downloading package punkt to /root/nltk_data...\n",
            "[nltk_data]   Unzipping tokenizers/punkt.zip.\n",
            "[nltk_data] Downloading package averaged_perceptron_tagger to\n",
            "[nltk_data]     /root/nltk_data...\n",
            "[nltk_data]   Unzipping taggers/averaged_perceptron_tagger.zip.\n"
          ],
          "name": "stdout"
        },
        {
          "output_type": "execute_result",
          "data": {
            "text/plain": [
              "True"
            ]
          },
          "metadata": {
            "tags": []
          },
          "execution_count": 9
        }
      ]
    },
    {
      "metadata": {
        "id": "L2Qn64vMW7kE",
        "colab_type": "code",
        "colab": {
          "base_uri": "https://localhost:8080/",
          "height": 34
        },
        "outputId": "c7d55e80-40d6-4530-993f-6aab2240502a"
      },
      "cell_type": "code",
      "source": [
        "by_hand_pos_keys = ['$', \"''\",\"(\", ')', ',', '--', '.', ':', 'CC', 'CD', 'DT', 'EX', 'DT', 'EX', 'FW', 'IN', 'JJ', 'JJR', 'JJS', 'LS', 'MD', 'NN', 'NNP','NNPS', 'NNS', 'PDT', 'POS', 'PRP', 'PRP$', 'RB', 'RBR', 'RBS', 'RP', 'SYM', 'TO', 'UH', 'VB', 'VBD', 'VBG','VBN','VBP', 'VBZ', 'WDT', 'WP', 'WP$', 'WRB', '``', '#']\n",
        "len(by_hand_pos_keys)"
      ],
      "execution_count": 10,
      "outputs": [
        {
          "output_type": "execute_result",
          "data": {
            "text/plain": [
              "48"
            ]
          },
          "metadata": {
            "tags": []
          },
          "execution_count": 10
        }
      ]
    },
    {
      "metadata": {
        "id": "dxu1jioXY-UC",
        "colab_type": "code",
        "colab": {}
      },
      "cell_type": "code",
      "source": [
        "from nltk.tokenize import sent_tokenize"
      ],
      "execution_count": 0,
      "outputs": []
    },
    {
      "metadata": {
        "id": "avw7a6omY-gd",
        "colab_type": "code",
        "colab": {}
      },
      "cell_type": "code",
      "source": [
        "zee_data=[]\n",
        "for i in review_chunk:\n",
        "  try:\n",
        "    sent_tokenize_list = sent_tokenize(i)\n",
        "    array = np.zeros(48)\n",
        "    for item in sent_tokenize_list:\n",
        "      try:\n",
        "        tokenized = nltk.word_tokenize(item)\n",
        "        tagged = nltk.pos_tag(tokenized)\n",
        "        tags = [b[1] for (a, b) in nltk.bigrams(tagged)]\n",
        "        for tag in tags:\n",
        "          index = by_hand_pos_keys.index(tag)\n",
        "          array[index] +=1\n",
        "      except:\n",
        "        continue\n",
        "    zee_data.append(array)\n",
        "  except:\n",
        "    print(i)\n",
        "    continue"
      ],
      "execution_count": 0,
      "outputs": []
    },
    {
      "metadata": {
        "id": "leHmcDHsY-mb",
        "colab_type": "code",
        "colab": {}
      },
      "cell_type": "code",
      "source": [
        "genders = new_df['gender']\n",
        "gender_chunk = genders[:10000]\n",
        "zee_data_Y = []\n",
        "for gender in gender_chunk:\n",
        "  if gender == 'male':\n",
        "    zee_data_Y.append(1)\n",
        "  else:\n",
        "    zee_data_Y.append(0)"
      ],
      "execution_count": 0,
      "outputs": []
    },
    {
      "metadata": {
        "id": "0qPg-jOiY-wW",
        "colab_type": "code",
        "colab": {
          "base_uri": "https://localhost:8080/",
          "height": 51
        },
        "outputId": "0ab1d226-8e6b-40a1-cff0-2cf1337e4bf9"
      },
      "cell_type": "code",
      "source": [
        "print(len(zee_data_Y))\n",
        "print(len(zee_data))"
      ],
      "execution_count": 14,
      "outputs": [
        {
          "output_type": "stream",
          "text": [
            "10000\n",
            "10000\n"
          ],
          "name": "stdout"
        }
      ]
    },
    {
      "metadata": {
        "id": "dcyLW5lGv5eF",
        "colab_type": "text"
      },
      "cell_type": "markdown",
      "source": [
        "Multinomial NB = 0.5786666666666667 / 0.5843333333333334"
      ]
    },
    {
      "metadata": {
        "id": "NH-29JCadQF8",
        "colab_type": "code",
        "colab": {}
      },
      "cell_type": "code",
      "source": [
        "from sklearn.model_selection import train_test_split\n",
        "X_train, X_test, y_train, y_test = train_test_split(zee_data, zee_data_Y, test_size=0.3)"
      ],
      "execution_count": 0,
      "outputs": []
    },
    {
      "metadata": {
        "id": "xntlrSiediCw",
        "colab_type": "code",
        "colab": {
          "base_uri": "https://localhost:8080/",
          "height": 34
        },
        "outputId": "7d132daa-90b6-4436-f518-82edb7392dac"
      },
      "cell_type": "code",
      "source": [
        "from sklearn.naive_bayes import MultinomialNB\n",
        "\n",
        "model = MultinomialNB()\n",
        "\n",
        "model.fit(X_train, y_train)\n",
        "\n",
        "model.score(X_test, y_test)"
      ],
      "execution_count": 16,
      "outputs": [
        {
          "output_type": "execute_result",
          "data": {
            "text/plain": [
              "0.5833333333333334"
            ]
          },
          "metadata": {
            "tags": []
          },
          "execution_count": 16
        }
      ]
    },
    {
      "metadata": {
        "id": "cvcPVH4ueM8h",
        "colab_type": "code",
        "colab": {}
      },
      "cell_type": "code",
      "source": [
        "from sklearn.naive_bayes import GaussianNB"
      ],
      "execution_count": 0,
      "outputs": []
    },
    {
      "metadata": {
        "id": "zMarXVCiwQD0",
        "colab_type": "code",
        "colab": {}
      },
      "cell_type": "code",
      "source": [
        "clf_pf = GaussianNB()\n",
        "clf_pf.partial_fit(X_train, y_train, np.unique(Y))\n",
        "GaussianNB(priors=None)\n",
        "print(clf_pf.predict([[-0.8, -1]]))"
      ],
      "execution_count": 0,
      "outputs": []
    },
    {
      "metadata": {
        "id": "ptLU4zuI6KxC",
        "colab_type": "text"
      },
      "cell_type": "markdown",
      "source": [
        "### Gradient Descent\n",
        "\n",
        "(continuation of Susanna's work)\n",
        "\n",
        "[Link](http://scikit-learn.org/stable/modules/generated/sklearn.linear_model.SGDClassifier.html)"
      ]
    },
    {
      "metadata": {
        "id": "MjouOtLf2OQn",
        "colab_type": "code",
        "colab": {}
      },
      "cell_type": "code",
      "source": [
        "from sklearn import linear_model\n",
        "from sklearn.linear_model import SGDClassifier"
      ],
      "execution_count": 0,
      "outputs": []
    },
    {
      "metadata": {
        "id": "UKUks15i2VoX",
        "colab_type": "code",
        "colab": {
          "base_uri": "https://localhost:8080/",
          "height": 88
        },
        "outputId": "22d782a2-07b4-4978-e6a0-1e834c62576c"
      },
      "cell_type": "code",
      "source": [
        "\n",
        "X = X_train\n",
        "Y = y_train\n",
        "clf = linear_model.SGDClassifier()\n",
        "clf.fit(X, Y)\n",
        "\n",
        "SGDClassifier(alpha=0.0001, average=False, class_weight=None, epsilon=0.1,\n",
        "       eta0=0.0, fit_intercept=True, l1_ratio=0.15,\n",
        "       learning_rate='optimal', loss='hinge', max_iter=None, n_iter=None,\n",
        "       n_jobs=1, penalty='l2', power_t=0.5, random_state=None,\n",
        "       shuffle=True, tol=None, verbose=0, warm_start=False)\n",
        "\n",
        "clf.score(X, Y)"
      ],
      "execution_count": 61,
      "outputs": [
        {
          "output_type": "stream",
          "text": [
            "/usr/local/lib/python3.6/dist-packages/sklearn/linear_model/stochastic_gradient.py:128: FutureWarning: max_iter and tol parameters have been added in <class 'sklearn.linear_model.stochastic_gradient.SGDClassifier'> in 0.19. If both are left unset, they default to max_iter=5 and tol=None. If tol is not None, max_iter defaults to max_iter=1000. From 0.21, default max_iter will be 1000, and default tol will be 1e-3.\n",
            "  \"and default tol will be 1e-3.\" % type(self), FutureWarning)\n"
          ],
          "name": "stderr"
        },
        {
          "output_type": "execute_result",
          "data": {
            "text/plain": [
              "0.5605714285714286"
            ]
          },
          "metadata": {
            "tags": []
          },
          "execution_count": 61
        }
      ]
    },
    {
      "metadata": {
        "id": "oczpLIUvx9YD",
        "colab_type": "text"
      },
      "cell_type": "markdown",
      "source": [
        "## Kelvin's Latest Dataset Test\n",
        "\n",
        "13/9/18"
      ]
    },
    {
      "metadata": {
        "id": "rPPgkxDUx_fE",
        "colab_type": "code",
        "colab": {
          "base_uri": "https://localhost:8080/",
          "height": 51
        },
        "outputId": "f052048b-0edf-4cfc-b61f-96d323432799"
      },
      "cell_type": "code",
      "source": [
        "!wget -nc https://www.dropbox.com/s/ezl4oj16vkeu21l/supreme_genders_data.pkl?dl=0\n",
        "data = pd.read_pickle('supreme_genders_data.pkl?dl=0')\n",
        "df = pd.DataFrame(data)"
      ],
      "execution_count": 20,
      "outputs": [
        {
          "output_type": "stream",
          "text": [
            "\n",
            "Redirecting output to ‘wget-log.1’.\n"
          ],
          "name": "stdout"
        }
      ]
    },
    {
      "metadata": {
        "id": "hhsgRL2ZyB-o",
        "colab_type": "code",
        "colab": {}
      },
      "cell_type": "code",
      "source": [
        "data = pd.read_pickle('supreme_genders_data.pkl?dl=0')\n",
        "df = pd.DataFrame(data)"
      ],
      "execution_count": 0,
      "outputs": []
    },
    {
      "metadata": {
        "id": "2uabnyy7z0ac",
        "colab_type": "code",
        "colab": {
          "base_uri": "https://localhost:8080/",
          "height": 34
        },
        "outputId": "e83098d2-01fb-455f-a7af-e43be5ce5a6d"
      },
      "cell_type": "code",
      "source": [
        "df = pd.DataFrame(data)\n",
        "df.shape"
      ],
      "execution_count": 23,
      "outputs": [
        {
          "output_type": "execute_result",
          "data": {
            "text/plain": [
              "(1289462, 4)"
            ]
          },
          "metadata": {
            "tags": []
          },
          "execution_count": 23
        }
      ]
    },
    {
      "metadata": {
        "id": "nEtuA59mz65R",
        "colab_type": "code",
        "colab": {
          "base_uri": "https://localhost:8080/",
          "height": 204
        },
        "outputId": "0c944c86-c055-4552-eac6-59262abe25ad"
      },
      "cell_type": "code",
      "source": [
        "df.head()"
      ],
      "execution_count": 24,
      "outputs": [
        {
          "output_type": "execute_result",
          "data": {
            "text/html": [
              "<div>\n",
              "<style scoped>\n",
              "    .dataframe tbody tr th:only-of-type {\n",
              "        vertical-align: middle;\n",
              "    }\n",
              "\n",
              "    .dataframe tbody tr th {\n",
              "        vertical-align: top;\n",
              "    }\n",
              "\n",
              "    .dataframe thead th {\n",
              "        text-align: right;\n",
              "    }\n",
              "</style>\n",
              "<table border=\"1\" class=\"dataframe\">\n",
              "  <thead>\n",
              "    <tr style=\"text-align: right;\">\n",
              "      <th></th>\n",
              "      <th>names</th>\n",
              "      <th>review</th>\n",
              "      <th>summary</th>\n",
              "      <th>gender</th>\n",
              "    </tr>\n",
              "  </thead>\n",
              "  <tbody>\n",
              "    <tr>\n",
              "      <th>0</th>\n",
              "      <td>gsxrgirl</td>\n",
              "      <td>No sugar, no GMO garbage, no fillers that come...</td>\n",
              "      <td>Best vanilla I've ever had</td>\n",
              "      <td>female</td>\n",
              "    </tr>\n",
              "    <tr>\n",
              "      <th>1</th>\n",
              "      <td>FIFA Lvr</td>\n",
              "      <td>This is my absolute, undisputed favorite tea r...</td>\n",
              "      <td>Terrific Tea!</td>\n",
              "      <td>unknown</td>\n",
              "    </tr>\n",
              "    <tr>\n",
              "      <th>2</th>\n",
              "      <td>Alicia b</td>\n",
              "      <td>I ordered spongbob slippers and I got John Cen...</td>\n",
              "      <td>grrrrrrr</td>\n",
              "      <td>female</td>\n",
              "    </tr>\n",
              "    <tr>\n",
              "      <th>3</th>\n",
              "      <td>Danny K. Tilley \"Dan Tilley\"</td>\n",
              "      <td>The cart is fine and works for the purpose for...</td>\n",
              "      <td>Storage on Wheels Cart</td>\n",
              "      <td>male</td>\n",
              "    </tr>\n",
              "    <tr>\n",
              "      <th>4</th>\n",
              "      <td>CHelmic</td>\n",
              "      <td>This product by Archer Farms is the best drink...</td>\n",
              "      <td>The best drink mix</td>\n",
              "      <td>unknown</td>\n",
              "    </tr>\n",
              "  </tbody>\n",
              "</table>\n",
              "</div>"
            ],
            "text/plain": [
              "                          names  \\\n",
              "0                      gsxrgirl   \n",
              "1                      FIFA Lvr   \n",
              "2                      Alicia b   \n",
              "3  Danny K. Tilley \"Dan Tilley\"   \n",
              "4                       CHelmic   \n",
              "\n",
              "                                              review  \\\n",
              "0  No sugar, no GMO garbage, no fillers that come...   \n",
              "1  This is my absolute, undisputed favorite tea r...   \n",
              "2  I ordered spongbob slippers and I got John Cen...   \n",
              "3  The cart is fine and works for the purpose for...   \n",
              "4  This product by Archer Farms is the best drink...   \n",
              "\n",
              "                      summary   gender  \n",
              "0  Best vanilla I've ever had   female  \n",
              "1               Terrific Tea!  unknown  \n",
              "2                    grrrrrrr   female  \n",
              "3      Storage on Wheels Cart     male  \n",
              "4          The best drink mix  unknown  "
            ]
          },
          "metadata": {
            "tags": []
          },
          "execution_count": 24
        }
      ]
    }
  ]
}