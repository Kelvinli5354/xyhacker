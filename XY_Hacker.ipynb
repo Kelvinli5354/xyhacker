{
  "nbformat": 4,
  "nbformat_minor": 0,
  "metadata": {
    "colab": {
      "name": "XY Hacker.ipynb",
      "version": "0.3.2",
      "provenance": [],
      "collapsed_sections": []
    },
    "kernelspec": {
      "name": "python3",
      "display_name": "Python 3"
    },
    "accelerator": "GPU"
  },
  "cells": [
    {
      "metadata": {
        "id": "JXx0O3rTtu7I",
        "colab_type": "code",
        "colab": {
          "base_uri": "https://localhost:8080/",
          "height": 51
        },
        "outputId": "dba9ad41-308a-4148-d4ef-cace703d1a18"
      },
      "cell_type": "code",
      "source": [
        "!wget http://snap.stanford.edu/data/amazon/productGraph/categoryFiles/reviews_Grocery_and_Gourmet_Food.json.gz"
      ],
      "execution_count": 1,
      "outputs": [
        {
          "output_type": "stream",
          "text": [
            "\n",
            "Redirecting output to ‘wget-log’.\n"
          ],
          "name": "stdout"
        }
      ]
    },
    {
      "metadata": {
        "id": "6v8muLsEEUgj",
        "colab_type": "code",
        "colab": {
          "base_uri": "https://localhost:8080/",
          "height": 51
        },
        "outputId": "d8d93aaa-6d76-4484-accc-c444292ebaad"
      },
      "cell_type": "code",
      "source": [
        "!wget http://snap.stanford.edu/data/amazon/productGraph/categoryFiles/reviews_Movies_and_TV_5.json.gz"
      ],
      "execution_count": 2,
      "outputs": [
        {
          "output_type": "stream",
          "text": [
            "\n",
            "Redirecting output to ‘wget-log.1’.\n"
          ],
          "name": "stdout"
        }
      ]
    },
    {
      "metadata": {
        "id": "ugVNGGhmvI63",
        "colab_type": "code",
        "colab": {}
      },
      "cell_type": "code",
      "source": [
        "import pandas as pd\n",
        "import gzip\n",
        "\n",
        "def parse(path):\n",
        "  g = gzip.open(path, 'rb')\n",
        "  for l in g:\n",
        "    yield eval(l)\n",
        "\n",
        "def getDF(path):\n",
        "  i = 0\n",
        "  df = {}\n",
        "  for d in parse(path):\n",
        "    df[i] = d\n",
        "    i += 1\n",
        "  return pd.DataFrame.from_dict(df, orient='index')\n",
        "\n",
        "df = getDF('reviews_Grocery_and_Gourmet_Food.json.gz')\n",
        "data = getDF('reviews_Movies_and_TV_5.json.gz')"
      ],
      "execution_count": 0,
      "outputs": []
    },
    {
      "metadata": {
        "id": "tbTvskIFuQMH",
        "colab_type": "code",
        "colab": {
          "base_uri": "https://localhost:8080/",
          "height": 289
        },
        "outputId": "b2f9ebe5-0129-4273-8b95-686891aa9bbd"
      },
      "cell_type": "code",
      "source": [
        "df.head()"
      ],
      "execution_count": 4,
      "outputs": [
        {
          "output_type": "execute_result",
          "data": {
            "text/html": [
              "<div>\n",
              "<style scoped>\n",
              "    .dataframe tbody tr th:only-of-type {\n",
              "        vertical-align: middle;\n",
              "    }\n",
              "\n",
              "    .dataframe tbody tr th {\n",
              "        vertical-align: top;\n",
              "    }\n",
              "\n",
              "    .dataframe thead th {\n",
              "        text-align: right;\n",
              "    }\n",
              "</style>\n",
              "<table border=\"1\" class=\"dataframe\">\n",
              "  <thead>\n",
              "    <tr style=\"text-align: right;\">\n",
              "      <th></th>\n",
              "      <th>reviewerID</th>\n",
              "      <th>asin</th>\n",
              "      <th>reviewerName</th>\n",
              "      <th>helpful</th>\n",
              "      <th>reviewText</th>\n",
              "      <th>overall</th>\n",
              "      <th>summary</th>\n",
              "      <th>unixReviewTime</th>\n",
              "      <th>reviewTime</th>\n",
              "    </tr>\n",
              "  </thead>\n",
              "  <tbody>\n",
              "    <tr>\n",
              "      <th>0</th>\n",
              "      <td>A1ZQZ8RJS1XVTX</td>\n",
              "      <td>0657745316</td>\n",
              "      <td>gsxrgirl</td>\n",
              "      <td>[0, 0]</td>\n",
              "      <td>No sugar, no GMO garbage, no fillers that come...</td>\n",
              "      <td>5.0</td>\n",
              "      <td>Best vanilla I've ever had</td>\n",
              "      <td>1381449600</td>\n",
              "      <td>10 11, 2013</td>\n",
              "    </tr>\n",
              "    <tr>\n",
              "      <th>1</th>\n",
              "      <td>A31W38VGZAUUM4</td>\n",
              "      <td>0700026444</td>\n",
              "      <td>FIFA Lvr</td>\n",
              "      <td>[1, 1]</td>\n",
              "      <td>This is my absolute, undisputed favorite tea r...</td>\n",
              "      <td>5.0</td>\n",
              "      <td>Terrific Tea!</td>\n",
              "      <td>1354752000</td>\n",
              "      <td>12 6, 2012</td>\n",
              "    </tr>\n",
              "    <tr>\n",
              "      <th>2</th>\n",
              "      <td>A3I0AV0UJX5OH0</td>\n",
              "      <td>1403796890</td>\n",
              "      <td>Alicia b</td>\n",
              "      <td>[0, 0]</td>\n",
              "      <td>I ordered spongbob slippers and I got John Cen...</td>\n",
              "      <td>1.0</td>\n",
              "      <td>grrrrrrr</td>\n",
              "      <td>1385942400</td>\n",
              "      <td>12 2, 2013</td>\n",
              "    </tr>\n",
              "    <tr>\n",
              "      <th>3</th>\n",
              "      <td>A3QAAOLIXKV383</td>\n",
              "      <td>1403796890</td>\n",
              "      <td>Danny K. Tilley \"Dan Tilley\"</td>\n",
              "      <td>[0, 0]</td>\n",
              "      <td>The cart is fine and works for the purpose for...</td>\n",
              "      <td>3.0</td>\n",
              "      <td>Storage on Wheels Cart</td>\n",
              "      <td>1307836800</td>\n",
              "      <td>06 12, 2011</td>\n",
              "    </tr>\n",
              "    <tr>\n",
              "      <th>4</th>\n",
              "      <td>AB1A5EGHHVA9M</td>\n",
              "      <td>141278509X</td>\n",
              "      <td>CHelmic</td>\n",
              "      <td>[1, 1]</td>\n",
              "      <td>This product by Archer Farms is the best drink...</td>\n",
              "      <td>5.0</td>\n",
              "      <td>The best drink mix</td>\n",
              "      <td>1332547200</td>\n",
              "      <td>03 24, 2012</td>\n",
              "    </tr>\n",
              "  </tbody>\n",
              "</table>\n",
              "</div>"
            ],
            "text/plain": [
              "       reviewerID        asin                  reviewerName helpful  \\\n",
              "0  A1ZQZ8RJS1XVTX  0657745316                      gsxrgirl  [0, 0]   \n",
              "1  A31W38VGZAUUM4  0700026444                      FIFA Lvr  [1, 1]   \n",
              "2  A3I0AV0UJX5OH0  1403796890                      Alicia b  [0, 0]   \n",
              "3  A3QAAOLIXKV383  1403796890  Danny K. Tilley \"Dan Tilley\"  [0, 0]   \n",
              "4   AB1A5EGHHVA9M  141278509X                       CHelmic  [1, 1]   \n",
              "\n",
              "                                          reviewText  overall  \\\n",
              "0  No sugar, no GMO garbage, no fillers that come...      5.0   \n",
              "1  This is my absolute, undisputed favorite tea r...      5.0   \n",
              "2  I ordered spongbob slippers and I got John Cen...      1.0   \n",
              "3  The cart is fine and works for the purpose for...      3.0   \n",
              "4  This product by Archer Farms is the best drink...      5.0   \n",
              "\n",
              "                      summary  unixReviewTime   reviewTime  \n",
              "0  Best vanilla I've ever had      1381449600  10 11, 2013  \n",
              "1               Terrific Tea!      1354752000   12 6, 2012  \n",
              "2                    grrrrrrr      1385942400   12 2, 2013  \n",
              "3      Storage on Wheels Cart      1307836800  06 12, 2011  \n",
              "4          The best drink mix      1332547200  03 24, 2012  "
            ]
          },
          "metadata": {
            "tags": []
          },
          "execution_count": 4
        }
      ]
    },
    {
      "metadata": {
        "id": "kPKcCcUOEtNR",
        "colab_type": "code",
        "colab": {
          "base_uri": "https://localhost:8080/",
          "height": 289
        },
        "outputId": "9a9b1c28-61e3-40a5-972a-d89ecb81cfe9"
      },
      "cell_type": "code",
      "source": [
        "data.head()"
      ],
      "execution_count": 5,
      "outputs": [
        {
          "output_type": "execute_result",
          "data": {
            "text/html": [
              "<div>\n",
              "<style scoped>\n",
              "    .dataframe tbody tr th:only-of-type {\n",
              "        vertical-align: middle;\n",
              "    }\n",
              "\n",
              "    .dataframe tbody tr th {\n",
              "        vertical-align: top;\n",
              "    }\n",
              "\n",
              "    .dataframe thead th {\n",
              "        text-align: right;\n",
              "    }\n",
              "</style>\n",
              "<table border=\"1\" class=\"dataframe\">\n",
              "  <thead>\n",
              "    <tr style=\"text-align: right;\">\n",
              "      <th></th>\n",
              "      <th>reviewerID</th>\n",
              "      <th>asin</th>\n",
              "      <th>reviewerName</th>\n",
              "      <th>helpful</th>\n",
              "      <th>reviewText</th>\n",
              "      <th>overall</th>\n",
              "      <th>summary</th>\n",
              "      <th>unixReviewTime</th>\n",
              "      <th>reviewTime</th>\n",
              "    </tr>\n",
              "  </thead>\n",
              "  <tbody>\n",
              "    <tr>\n",
              "      <th>0</th>\n",
              "      <td>ADZPIG9QOCDG5</td>\n",
              "      <td>0005019281</td>\n",
              "      <td>Alice L. Larson \"alice-loves-books\"</td>\n",
              "      <td>[0, 0]</td>\n",
              "      <td>This is a charming version of the classic Dick...</td>\n",
              "      <td>4.0</td>\n",
              "      <td>good version of a classic</td>\n",
              "      <td>1203984000</td>\n",
              "      <td>02 26, 2008</td>\n",
              "    </tr>\n",
              "    <tr>\n",
              "      <th>1</th>\n",
              "      <td>A35947ZP82G7JH</td>\n",
              "      <td>0005019281</td>\n",
              "      <td>Amarah Strack</td>\n",
              "      <td>[0, 0]</td>\n",
              "      <td>It was good but not as emotionally moving as t...</td>\n",
              "      <td>3.0</td>\n",
              "      <td>Good but not as moving</td>\n",
              "      <td>1388361600</td>\n",
              "      <td>12 30, 2013</td>\n",
              "    </tr>\n",
              "    <tr>\n",
              "      <th>2</th>\n",
              "      <td>A3UORV8A9D5L2E</td>\n",
              "      <td>0005019281</td>\n",
              "      <td>Amazon Customer</td>\n",
              "      <td>[0, 0]</td>\n",
              "      <td>Don't get me wrong, Winkler is a wonderful cha...</td>\n",
              "      <td>3.0</td>\n",
              "      <td>Winkler's Performance was ok at best!</td>\n",
              "      <td>1388361600</td>\n",
              "      <td>12 30, 2013</td>\n",
              "    </tr>\n",
              "    <tr>\n",
              "      <th>3</th>\n",
              "      <td>A1VKW06X1O2X7V</td>\n",
              "      <td>0005019281</td>\n",
              "      <td>Amazon Customer \"Softmill\"</td>\n",
              "      <td>[0, 0]</td>\n",
              "      <td>Henry Winkler is very good in this twist on th...</td>\n",
              "      <td>5.0</td>\n",
              "      <td>It's an enjoyable twist on the classic story</td>\n",
              "      <td>1202860800</td>\n",
              "      <td>02 13, 2008</td>\n",
              "    </tr>\n",
              "    <tr>\n",
              "      <th>4</th>\n",
              "      <td>A3R27T4HADWFFJ</td>\n",
              "      <td>0005019281</td>\n",
              "      <td>BABE</td>\n",
              "      <td>[0, 0]</td>\n",
              "      <td>This is one of the best Scrooge movies out.  H...</td>\n",
              "      <td>4.0</td>\n",
              "      <td>Best Scrooge yet</td>\n",
              "      <td>1387670400</td>\n",
              "      <td>12 22, 2013</td>\n",
              "    </tr>\n",
              "  </tbody>\n",
              "</table>\n",
              "</div>"
            ],
            "text/plain": [
              "       reviewerID        asin                         reviewerName helpful  \\\n",
              "0   ADZPIG9QOCDG5  0005019281  Alice L. Larson \"alice-loves-books\"  [0, 0]   \n",
              "1  A35947ZP82G7JH  0005019281                        Amarah Strack  [0, 0]   \n",
              "2  A3UORV8A9D5L2E  0005019281                      Amazon Customer  [0, 0]   \n",
              "3  A1VKW06X1O2X7V  0005019281           Amazon Customer \"Softmill\"  [0, 0]   \n",
              "4  A3R27T4HADWFFJ  0005019281                                 BABE  [0, 0]   \n",
              "\n",
              "                                          reviewText  overall  \\\n",
              "0  This is a charming version of the classic Dick...      4.0   \n",
              "1  It was good but not as emotionally moving as t...      3.0   \n",
              "2  Don't get me wrong, Winkler is a wonderful cha...      3.0   \n",
              "3  Henry Winkler is very good in this twist on th...      5.0   \n",
              "4  This is one of the best Scrooge movies out.  H...      4.0   \n",
              "\n",
              "                                        summary  unixReviewTime   reviewTime  \n",
              "0                     good version of a classic      1203984000  02 26, 2008  \n",
              "1                        Good but not as moving      1388361600  12 30, 2013  \n",
              "2         Winkler's Performance was ok at best!      1388361600  12 30, 2013  \n",
              "3  It's an enjoyable twist on the classic story      1202860800  02 13, 2008  \n",
              "4                              Best Scrooge yet      1387670400  12 22, 2013  "
            ]
          },
          "metadata": {
            "tags": []
          },
          "execution_count": 5
        }
      ]
    },
    {
      "metadata": {
        "id": "yIB7EeKtywHY",
        "colab_type": "code",
        "colab": {
          "base_uri": "https://localhost:8080/",
          "height": 122
        },
        "outputId": "f797a0ee-9a4c-454d-9174-1d94401529c5"
      },
      "cell_type": "code",
      "source": [
        "!pip install gender_guesser"
      ],
      "execution_count": 6,
      "outputs": [
        {
          "output_type": "stream",
          "text": [
            "Collecting gender_guesser\n",
            "\u001b[?25l  Downloading https://files.pythonhosted.org/packages/13/fb/3f2aac40cd2421e164cab1668e0ca10685fcf896bd6b3671088f8aab356e/gender_guesser-0.4.0-py2.py3-none-any.whl (379kB)\n",
            "\u001b[K    100% |████████████████████████████████| 389kB 24.4MB/s \n",
            "\u001b[?25hInstalling collected packages: gender-guesser\n",
            "Successfully installed gender-guesser-0.4.0\n"
          ],
          "name": "stdout"
        }
      ]
    },
    {
      "metadata": {
        "id": "qWoshuSlvgUE",
        "colab_type": "code",
        "colab": {}
      },
      "cell_type": "code",
      "source": [
        "df['first_name'] = df['reviewerName'].str.split(' ', expand=True)[0]\n",
        "data['first_name'] = data['reviewerName'].str.split(' ', expand=True)[0]"
      ],
      "execution_count": 0,
      "outputs": []
    },
    {
      "metadata": {
        "id": "-NpEwIS3pNkw",
        "colab_type": "code",
        "colab": {}
      },
      "cell_type": "code",
      "source": [
        "df['first_name'] = df.first_name.str.capitalize()\n",
        "data['first_name'] = data.first_name.str.capitalize()"
      ],
      "execution_count": 0,
      "outputs": []
    },
    {
      "metadata": {
        "id": "MvfKmFre9MOS",
        "colab_type": "code",
        "colab": {
          "base_uri": "https://localhost:8080/",
          "height": 323
        },
        "outputId": "3dfc312f-6062-4654-8206-d68981470bc2"
      },
      "cell_type": "code",
      "source": [
        "df.head(5)"
      ],
      "execution_count": 0,
      "outputs": [
        {
          "output_type": "execute_result",
          "data": {
            "text/html": [
              "<div>\n",
              "<style scoped>\n",
              "    .dataframe tbody tr th:only-of-type {\n",
              "        vertical-align: middle;\n",
              "    }\n",
              "\n",
              "    .dataframe tbody tr th {\n",
              "        vertical-align: top;\n",
              "    }\n",
              "\n",
              "    .dataframe thead th {\n",
              "        text-align: right;\n",
              "    }\n",
              "</style>\n",
              "<table border=\"1\" class=\"dataframe\">\n",
              "  <thead>\n",
              "    <tr style=\"text-align: right;\">\n",
              "      <th></th>\n",
              "      <th>reviewerID</th>\n",
              "      <th>asin</th>\n",
              "      <th>reviewerName</th>\n",
              "      <th>helpful</th>\n",
              "      <th>reviewText</th>\n",
              "      <th>overall</th>\n",
              "      <th>summary</th>\n",
              "      <th>unixReviewTime</th>\n",
              "      <th>reviewTime</th>\n",
              "      <th>first_name</th>\n",
              "    </tr>\n",
              "  </thead>\n",
              "  <tbody>\n",
              "    <tr>\n",
              "      <th>0</th>\n",
              "      <td>A1ZQZ8RJS1XVTX</td>\n",
              "      <td>0657745316</td>\n",
              "      <td>gsxrgirl</td>\n",
              "      <td>[0, 0]</td>\n",
              "      <td>No sugar, no GMO garbage, no fillers that come...</td>\n",
              "      <td>5.0</td>\n",
              "      <td>Best vanilla I've ever had</td>\n",
              "      <td>1381449600</td>\n",
              "      <td>10 11, 2013</td>\n",
              "      <td>Gsxrgirl</td>\n",
              "    </tr>\n",
              "    <tr>\n",
              "      <th>1</th>\n",
              "      <td>A31W38VGZAUUM4</td>\n",
              "      <td>0700026444</td>\n",
              "      <td>FIFA Lvr</td>\n",
              "      <td>[1, 1]</td>\n",
              "      <td>This is my absolute, undisputed favorite tea r...</td>\n",
              "      <td>5.0</td>\n",
              "      <td>Terrific Tea!</td>\n",
              "      <td>1354752000</td>\n",
              "      <td>12 6, 2012</td>\n",
              "      <td>Fifa</td>\n",
              "    </tr>\n",
              "    <tr>\n",
              "      <th>2</th>\n",
              "      <td>A3I0AV0UJX5OH0</td>\n",
              "      <td>1403796890</td>\n",
              "      <td>Alicia b</td>\n",
              "      <td>[0, 0]</td>\n",
              "      <td>I ordered spongbob slippers and I got John Cen...</td>\n",
              "      <td>1.0</td>\n",
              "      <td>grrrrrrr</td>\n",
              "      <td>1385942400</td>\n",
              "      <td>12 2, 2013</td>\n",
              "      <td>Alicia</td>\n",
              "    </tr>\n",
              "    <tr>\n",
              "      <th>3</th>\n",
              "      <td>A3QAAOLIXKV383</td>\n",
              "      <td>1403796890</td>\n",
              "      <td>Danny K. Tilley \"Dan Tilley\"</td>\n",
              "      <td>[0, 0]</td>\n",
              "      <td>The cart is fine and works for the purpose for...</td>\n",
              "      <td>3.0</td>\n",
              "      <td>Storage on Wheels Cart</td>\n",
              "      <td>1307836800</td>\n",
              "      <td>06 12, 2011</td>\n",
              "      <td>Danny</td>\n",
              "    </tr>\n",
              "    <tr>\n",
              "      <th>4</th>\n",
              "      <td>AB1A5EGHHVA9M</td>\n",
              "      <td>141278509X</td>\n",
              "      <td>CHelmic</td>\n",
              "      <td>[1, 1]</td>\n",
              "      <td>This product by Archer Farms is the best drink...</td>\n",
              "      <td>5.0</td>\n",
              "      <td>The best drink mix</td>\n",
              "      <td>1332547200</td>\n",
              "      <td>03 24, 2012</td>\n",
              "      <td>Chelmic</td>\n",
              "    </tr>\n",
              "  </tbody>\n",
              "</table>\n",
              "</div>"
            ],
            "text/plain": [
              "       reviewerID        asin                  reviewerName helpful  \\\n",
              "0  A1ZQZ8RJS1XVTX  0657745316                      gsxrgirl  [0, 0]   \n",
              "1  A31W38VGZAUUM4  0700026444                      FIFA Lvr  [1, 1]   \n",
              "2  A3I0AV0UJX5OH0  1403796890                      Alicia b  [0, 0]   \n",
              "3  A3QAAOLIXKV383  1403796890  Danny K. Tilley \"Dan Tilley\"  [0, 0]   \n",
              "4   AB1A5EGHHVA9M  141278509X                       CHelmic  [1, 1]   \n",
              "\n",
              "                                          reviewText  overall  \\\n",
              "0  No sugar, no GMO garbage, no fillers that come...      5.0   \n",
              "1  This is my absolute, undisputed favorite tea r...      5.0   \n",
              "2  I ordered spongbob slippers and I got John Cen...      1.0   \n",
              "3  The cart is fine and works for the purpose for...      3.0   \n",
              "4  This product by Archer Farms is the best drink...      5.0   \n",
              "\n",
              "                      summary  unixReviewTime   reviewTime first_name  \n",
              "0  Best vanilla I've ever had      1381449600  10 11, 2013   Gsxrgirl  \n",
              "1               Terrific Tea!      1354752000   12 6, 2012       Fifa  \n",
              "2                    grrrrrrr      1385942400   12 2, 2013     Alicia  \n",
              "3      Storage on Wheels Cart      1307836800  06 12, 2011      Danny  \n",
              "4          The best drink mix      1332547200  03 24, 2012    Chelmic  "
            ]
          },
          "metadata": {
            "tags": []
          },
          "execution_count": 22
        }
      ]
    },
    {
      "metadata": {
        "id": "gI2XFX6g9QpY",
        "colab_type": "code",
        "colab": {
          "base_uri": "https://localhost:8080/",
          "height": 374
        },
        "outputId": "1a9551dc-de0d-46f6-c9d4-e077694227ee"
      },
      "cell_type": "code",
      "source": [
        "data.head(5)"
      ],
      "execution_count": 0,
      "outputs": [
        {
          "output_type": "execute_result",
          "data": {
            "text/html": [
              "<div>\n",
              "<style scoped>\n",
              "    .dataframe tbody tr th:only-of-type {\n",
              "        vertical-align: middle;\n",
              "    }\n",
              "\n",
              "    .dataframe tbody tr th {\n",
              "        vertical-align: top;\n",
              "    }\n",
              "\n",
              "    .dataframe thead th {\n",
              "        text-align: right;\n",
              "    }\n",
              "</style>\n",
              "<table border=\"1\" class=\"dataframe\">\n",
              "  <thead>\n",
              "    <tr style=\"text-align: right;\">\n",
              "      <th></th>\n",
              "      <th>reviewerID</th>\n",
              "      <th>asin</th>\n",
              "      <th>reviewerName</th>\n",
              "      <th>helpful</th>\n",
              "      <th>reviewText</th>\n",
              "      <th>overall</th>\n",
              "      <th>summary</th>\n",
              "      <th>unixReviewTime</th>\n",
              "      <th>reviewTime</th>\n",
              "      <th>first_name</th>\n",
              "    </tr>\n",
              "  </thead>\n",
              "  <tbody>\n",
              "    <tr>\n",
              "      <th>0</th>\n",
              "      <td>ADZPIG9QOCDG5</td>\n",
              "      <td>0005019281</td>\n",
              "      <td>Alice L. Larson \"alice-loves-books\"</td>\n",
              "      <td>[0, 0]</td>\n",
              "      <td>This is a charming version of the classic Dick...</td>\n",
              "      <td>4.0</td>\n",
              "      <td>good version of a classic</td>\n",
              "      <td>1203984000</td>\n",
              "      <td>02 26, 2008</td>\n",
              "      <td>Alice</td>\n",
              "    </tr>\n",
              "    <tr>\n",
              "      <th>1</th>\n",
              "      <td>A35947ZP82G7JH</td>\n",
              "      <td>0005019281</td>\n",
              "      <td>Amarah Strack</td>\n",
              "      <td>[0, 0]</td>\n",
              "      <td>It was good but not as emotionally moving as t...</td>\n",
              "      <td>3.0</td>\n",
              "      <td>Good but not as moving</td>\n",
              "      <td>1388361600</td>\n",
              "      <td>12 30, 2013</td>\n",
              "      <td>Amarah</td>\n",
              "    </tr>\n",
              "    <tr>\n",
              "      <th>2</th>\n",
              "      <td>A3UORV8A9D5L2E</td>\n",
              "      <td>0005019281</td>\n",
              "      <td>Amazon Customer</td>\n",
              "      <td>[0, 0]</td>\n",
              "      <td>Don't get me wrong, Winkler is a wonderful cha...</td>\n",
              "      <td>3.0</td>\n",
              "      <td>Winkler's Performance was ok at best!</td>\n",
              "      <td>1388361600</td>\n",
              "      <td>12 30, 2013</td>\n",
              "      <td>Amazon</td>\n",
              "    </tr>\n",
              "    <tr>\n",
              "      <th>3</th>\n",
              "      <td>A1VKW06X1O2X7V</td>\n",
              "      <td>0005019281</td>\n",
              "      <td>Amazon Customer \"Softmill\"</td>\n",
              "      <td>[0, 0]</td>\n",
              "      <td>Henry Winkler is very good in this twist on th...</td>\n",
              "      <td>5.0</td>\n",
              "      <td>It's an enjoyable twist on the classic story</td>\n",
              "      <td>1202860800</td>\n",
              "      <td>02 13, 2008</td>\n",
              "      <td>Amazon</td>\n",
              "    </tr>\n",
              "    <tr>\n",
              "      <th>4</th>\n",
              "      <td>A3R27T4HADWFFJ</td>\n",
              "      <td>0005019281</td>\n",
              "      <td>BABE</td>\n",
              "      <td>[0, 0]</td>\n",
              "      <td>This is one of the best Scrooge movies out.  H...</td>\n",
              "      <td>4.0</td>\n",
              "      <td>Best Scrooge yet</td>\n",
              "      <td>1387670400</td>\n",
              "      <td>12 22, 2013</td>\n",
              "      <td>Babe</td>\n",
              "    </tr>\n",
              "  </tbody>\n",
              "</table>\n",
              "</div>"
            ],
            "text/plain": [
              "       reviewerID        asin                         reviewerName helpful  \\\n",
              "0   ADZPIG9QOCDG5  0005019281  Alice L. Larson \"alice-loves-books\"  [0, 0]   \n",
              "1  A35947ZP82G7JH  0005019281                        Amarah Strack  [0, 0]   \n",
              "2  A3UORV8A9D5L2E  0005019281                      Amazon Customer  [0, 0]   \n",
              "3  A1VKW06X1O2X7V  0005019281           Amazon Customer \"Softmill\"  [0, 0]   \n",
              "4  A3R27T4HADWFFJ  0005019281                                 BABE  [0, 0]   \n",
              "\n",
              "                                          reviewText  overall  \\\n",
              "0  This is a charming version of the classic Dick...      4.0   \n",
              "1  It was good but not as emotionally moving as t...      3.0   \n",
              "2  Don't get me wrong, Winkler is a wonderful cha...      3.0   \n",
              "3  Henry Winkler is very good in this twist on th...      5.0   \n",
              "4  This is one of the best Scrooge movies out.  H...      4.0   \n",
              "\n",
              "                                        summary  unixReviewTime   reviewTime  \\\n",
              "0                     good version of a classic      1203984000  02 26, 2008   \n",
              "1                        Good but not as moving      1388361600  12 30, 2013   \n",
              "2         Winkler's Performance was ok at best!      1388361600  12 30, 2013   \n",
              "3  It's an enjoyable twist on the classic story      1202860800  02 13, 2008   \n",
              "4                              Best Scrooge yet      1387670400  12 22, 2013   \n",
              "\n",
              "  first_name  \n",
              "0      Alice  \n",
              "1     Amarah  \n",
              "2     Amazon  \n",
              "3     Amazon  \n",
              "4       Babe  "
            ]
          },
          "metadata": {
            "tags": []
          },
          "execution_count": 25
        }
      ]
    },
    {
      "metadata": {
        "id": "I2NHuEOuNqRA",
        "colab_type": "code",
        "colab": {}
      },
      "cell_type": "code",
      "source": [
        "import gender_guesser.detector as gender\n",
        "d = gender.Detector()"
      ],
      "execution_count": 0,
      "outputs": []
    },
    {
      "metadata": {
        "id": "SDfh85Jpwo4d",
        "colab_type": "code",
        "colab": {}
      },
      "cell_type": "code",
      "source": [
        "df['gender'] = [d.get_gender(str(first_name)) for first_name in df['first_name']]\n",
        "data['gender'] = [d.get_gender(str(first_name)) for first_name in data['first_name']]"
      ],
      "execution_count": 0,
      "outputs": []
    },
    {
      "metadata": {
        "id": "UMsYoJoRI6DI",
        "colab_type": "code",
        "colab": {
          "base_uri": "https://localhost:8080/",
          "height": 408
        },
        "outputId": "8ed2a201-5713-4a64-dcdc-e5584c8da5de"
      },
      "cell_type": "code",
      "source": [
        "df.head(5)"
      ],
      "execution_count": 12,
      "outputs": [
        {
          "output_type": "execute_result",
          "data": {
            "text/html": [
              "<div>\n",
              "<style scoped>\n",
              "    .dataframe tbody tr th:only-of-type {\n",
              "        vertical-align: middle;\n",
              "    }\n",
              "\n",
              "    .dataframe tbody tr th {\n",
              "        vertical-align: top;\n",
              "    }\n",
              "\n",
              "    .dataframe thead th {\n",
              "        text-align: right;\n",
              "    }\n",
              "</style>\n",
              "<table border=\"1\" class=\"dataframe\">\n",
              "  <thead>\n",
              "    <tr style=\"text-align: right;\">\n",
              "      <th></th>\n",
              "      <th>reviewerID</th>\n",
              "      <th>asin</th>\n",
              "      <th>reviewerName</th>\n",
              "      <th>helpful</th>\n",
              "      <th>reviewText</th>\n",
              "      <th>overall</th>\n",
              "      <th>summary</th>\n",
              "      <th>unixReviewTime</th>\n",
              "      <th>reviewTime</th>\n",
              "      <th>first_name</th>\n",
              "      <th>gender</th>\n",
              "    </tr>\n",
              "  </thead>\n",
              "  <tbody>\n",
              "    <tr>\n",
              "      <th>0</th>\n",
              "      <td>A1ZQZ8RJS1XVTX</td>\n",
              "      <td>0657745316</td>\n",
              "      <td>gsxrgirl</td>\n",
              "      <td>[0, 0]</td>\n",
              "      <td>No sugar, no GMO garbage, no fillers that come...</td>\n",
              "      <td>5.0</td>\n",
              "      <td>Best vanilla I've ever had</td>\n",
              "      <td>1381449600</td>\n",
              "      <td>10 11, 2013</td>\n",
              "      <td>gsxrgirl</td>\n",
              "      <td>unknown</td>\n",
              "    </tr>\n",
              "    <tr>\n",
              "      <th>1</th>\n",
              "      <td>A31W38VGZAUUM4</td>\n",
              "      <td>0700026444</td>\n",
              "      <td>FIFA Lvr</td>\n",
              "      <td>[1, 1]</td>\n",
              "      <td>This is my absolute, undisputed favorite tea r...</td>\n",
              "      <td>5.0</td>\n",
              "      <td>Terrific Tea!</td>\n",
              "      <td>1354752000</td>\n",
              "      <td>12 6, 2012</td>\n",
              "      <td>FIFA</td>\n",
              "      <td>unknown</td>\n",
              "    </tr>\n",
              "    <tr>\n",
              "      <th>2</th>\n",
              "      <td>A3I0AV0UJX5OH0</td>\n",
              "      <td>1403796890</td>\n",
              "      <td>Alicia b</td>\n",
              "      <td>[0, 0]</td>\n",
              "      <td>I ordered spongbob slippers and I got John Cen...</td>\n",
              "      <td>1.0</td>\n",
              "      <td>grrrrrrr</td>\n",
              "      <td>1385942400</td>\n",
              "      <td>12 2, 2013</td>\n",
              "      <td>Alicia</td>\n",
              "      <td>female</td>\n",
              "    </tr>\n",
              "    <tr>\n",
              "      <th>3</th>\n",
              "      <td>A3QAAOLIXKV383</td>\n",
              "      <td>1403796890</td>\n",
              "      <td>Danny K. Tilley \"Dan Tilley\"</td>\n",
              "      <td>[0, 0]</td>\n",
              "      <td>The cart is fine and works for the purpose for...</td>\n",
              "      <td>3.0</td>\n",
              "      <td>Storage on Wheels Cart</td>\n",
              "      <td>1307836800</td>\n",
              "      <td>06 12, 2011</td>\n",
              "      <td>Danny</td>\n",
              "      <td>male</td>\n",
              "    </tr>\n",
              "    <tr>\n",
              "      <th>4</th>\n",
              "      <td>AB1A5EGHHVA9M</td>\n",
              "      <td>141278509X</td>\n",
              "      <td>CHelmic</td>\n",
              "      <td>[1, 1]</td>\n",
              "      <td>This product by Archer Farms is the best drink...</td>\n",
              "      <td>5.0</td>\n",
              "      <td>The best drink mix</td>\n",
              "      <td>1332547200</td>\n",
              "      <td>03 24, 2012</td>\n",
              "      <td>CHelmic</td>\n",
              "      <td>unknown</td>\n",
              "    </tr>\n",
              "  </tbody>\n",
              "</table>\n",
              "</div>"
            ],
            "text/plain": [
              "       reviewerID        asin                  reviewerName helpful  \\\n",
              "0  A1ZQZ8RJS1XVTX  0657745316                      gsxrgirl  [0, 0]   \n",
              "1  A31W38VGZAUUM4  0700026444                      FIFA Lvr  [1, 1]   \n",
              "2  A3I0AV0UJX5OH0  1403796890                      Alicia b  [0, 0]   \n",
              "3  A3QAAOLIXKV383  1403796890  Danny K. Tilley \"Dan Tilley\"  [0, 0]   \n",
              "4   AB1A5EGHHVA9M  141278509X                       CHelmic  [1, 1]   \n",
              "\n",
              "                                          reviewText  overall  \\\n",
              "0  No sugar, no GMO garbage, no fillers that come...      5.0   \n",
              "1  This is my absolute, undisputed favorite tea r...      5.0   \n",
              "2  I ordered spongbob slippers and I got John Cen...      1.0   \n",
              "3  The cart is fine and works for the purpose for...      3.0   \n",
              "4  This product by Archer Farms is the best drink...      5.0   \n",
              "\n",
              "                      summary  unixReviewTime   reviewTime first_name   gender  \n",
              "0  Best vanilla I've ever had      1381449600  10 11, 2013   gsxrgirl  unknown  \n",
              "1               Terrific Tea!      1354752000   12 6, 2012       FIFA  unknown  \n",
              "2                    grrrrrrr      1385942400   12 2, 2013     Alicia   female  \n",
              "3      Storage on Wheels Cart      1307836800  06 12, 2011      Danny     male  \n",
              "4          The best drink mix      1332547200  03 24, 2012    CHelmic  unknown  "
            ]
          },
          "metadata": {
            "tags": []
          },
          "execution_count": 12
        }
      ]
    },
    {
      "metadata": {
        "id": "i2FNP5Sx9lvE",
        "colab_type": "code",
        "colab": {
          "base_uri": "https://localhost:8080/",
          "height": 459
        },
        "outputId": "825e7462-45a0-419c-f2d9-f7d73cdf67a7"
      },
      "cell_type": "code",
      "source": [
        "data.head(5)"
      ],
      "execution_count": 13,
      "outputs": [
        {
          "output_type": "execute_result",
          "data": {
            "text/html": [
              "<div>\n",
              "<style scoped>\n",
              "    .dataframe tbody tr th:only-of-type {\n",
              "        vertical-align: middle;\n",
              "    }\n",
              "\n",
              "    .dataframe tbody tr th {\n",
              "        vertical-align: top;\n",
              "    }\n",
              "\n",
              "    .dataframe thead th {\n",
              "        text-align: right;\n",
              "    }\n",
              "</style>\n",
              "<table border=\"1\" class=\"dataframe\">\n",
              "  <thead>\n",
              "    <tr style=\"text-align: right;\">\n",
              "      <th></th>\n",
              "      <th>reviewerID</th>\n",
              "      <th>asin</th>\n",
              "      <th>reviewerName</th>\n",
              "      <th>helpful</th>\n",
              "      <th>reviewText</th>\n",
              "      <th>overall</th>\n",
              "      <th>summary</th>\n",
              "      <th>unixReviewTime</th>\n",
              "      <th>reviewTime</th>\n",
              "      <th>first_name</th>\n",
              "      <th>gender</th>\n",
              "    </tr>\n",
              "  </thead>\n",
              "  <tbody>\n",
              "    <tr>\n",
              "      <th>0</th>\n",
              "      <td>ADZPIG9QOCDG5</td>\n",
              "      <td>0005019281</td>\n",
              "      <td>Alice L. Larson \"alice-loves-books\"</td>\n",
              "      <td>[0, 0]</td>\n",
              "      <td>This is a charming version of the classic Dick...</td>\n",
              "      <td>4.0</td>\n",
              "      <td>good version of a classic</td>\n",
              "      <td>1203984000</td>\n",
              "      <td>02 26, 2008</td>\n",
              "      <td>Alice</td>\n",
              "      <td>female</td>\n",
              "    </tr>\n",
              "    <tr>\n",
              "      <th>1</th>\n",
              "      <td>A35947ZP82G7JH</td>\n",
              "      <td>0005019281</td>\n",
              "      <td>Amarah Strack</td>\n",
              "      <td>[0, 0]</td>\n",
              "      <td>It was good but not as emotionally moving as t...</td>\n",
              "      <td>3.0</td>\n",
              "      <td>Good but not as moving</td>\n",
              "      <td>1388361600</td>\n",
              "      <td>12 30, 2013</td>\n",
              "      <td>Amarah</td>\n",
              "      <td>unknown</td>\n",
              "    </tr>\n",
              "    <tr>\n",
              "      <th>2</th>\n",
              "      <td>A3UORV8A9D5L2E</td>\n",
              "      <td>0005019281</td>\n",
              "      <td>Amazon Customer</td>\n",
              "      <td>[0, 0]</td>\n",
              "      <td>Don't get me wrong, Winkler is a wonderful cha...</td>\n",
              "      <td>3.0</td>\n",
              "      <td>Winkler's Performance was ok at best!</td>\n",
              "      <td>1388361600</td>\n",
              "      <td>12 30, 2013</td>\n",
              "      <td>Amazon</td>\n",
              "      <td>unknown</td>\n",
              "    </tr>\n",
              "    <tr>\n",
              "      <th>3</th>\n",
              "      <td>A1VKW06X1O2X7V</td>\n",
              "      <td>0005019281</td>\n",
              "      <td>Amazon Customer \"Softmill\"</td>\n",
              "      <td>[0, 0]</td>\n",
              "      <td>Henry Winkler is very good in this twist on th...</td>\n",
              "      <td>5.0</td>\n",
              "      <td>It's an enjoyable twist on the classic story</td>\n",
              "      <td>1202860800</td>\n",
              "      <td>02 13, 2008</td>\n",
              "      <td>Amazon</td>\n",
              "      <td>unknown</td>\n",
              "    </tr>\n",
              "    <tr>\n",
              "      <th>4</th>\n",
              "      <td>A3R27T4HADWFFJ</td>\n",
              "      <td>0005019281</td>\n",
              "      <td>BABE</td>\n",
              "      <td>[0, 0]</td>\n",
              "      <td>This is one of the best Scrooge movies out.  H...</td>\n",
              "      <td>4.0</td>\n",
              "      <td>Best Scrooge yet</td>\n",
              "      <td>1387670400</td>\n",
              "      <td>12 22, 2013</td>\n",
              "      <td>BABE</td>\n",
              "      <td>unknown</td>\n",
              "    </tr>\n",
              "  </tbody>\n",
              "</table>\n",
              "</div>"
            ],
            "text/plain": [
              "       reviewerID        asin                         reviewerName helpful  \\\n",
              "0   ADZPIG9QOCDG5  0005019281  Alice L. Larson \"alice-loves-books\"  [0, 0]   \n",
              "1  A35947ZP82G7JH  0005019281                        Amarah Strack  [0, 0]   \n",
              "2  A3UORV8A9D5L2E  0005019281                      Amazon Customer  [0, 0]   \n",
              "3  A1VKW06X1O2X7V  0005019281           Amazon Customer \"Softmill\"  [0, 0]   \n",
              "4  A3R27T4HADWFFJ  0005019281                                 BABE  [0, 0]   \n",
              "\n",
              "                                          reviewText  overall  \\\n",
              "0  This is a charming version of the classic Dick...      4.0   \n",
              "1  It was good but not as emotionally moving as t...      3.0   \n",
              "2  Don't get me wrong, Winkler is a wonderful cha...      3.0   \n",
              "3  Henry Winkler is very good in this twist on th...      5.0   \n",
              "4  This is one of the best Scrooge movies out.  H...      4.0   \n",
              "\n",
              "                                        summary  unixReviewTime   reviewTime  \\\n",
              "0                     good version of a classic      1203984000  02 26, 2008   \n",
              "1                        Good but not as moving      1388361600  12 30, 2013   \n",
              "2         Winkler's Performance was ok at best!      1388361600  12 30, 2013   \n",
              "3  It's an enjoyable twist on the classic story      1202860800  02 13, 2008   \n",
              "4                              Best Scrooge yet      1387670400  12 22, 2013   \n",
              "\n",
              "  first_name   gender  \n",
              "0      Alice   female  \n",
              "1     Amarah  unknown  \n",
              "2     Amazon  unknown  \n",
              "3     Amazon  unknown  \n",
              "4       BABE  unknown  "
            ]
          },
          "metadata": {
            "tags": []
          },
          "execution_count": 13
        }
      ]
    },
    {
      "metadata": {
        "id": "YgM7_NtVNtty",
        "colab_type": "code",
        "colab": {
          "base_uri": "https://localhost:8080/",
          "height": 136
        },
        "outputId": "7b40dc66-ee43-48ec-fa39-c1d3f107c3a8"
      },
      "cell_type": "code",
      "source": [
        "print(df['gender'].value_counts())"
      ],
      "execution_count": 14,
      "outputs": [
        {
          "output_type": "stream",
          "text": [
            "unknown          735889\n",
            "female           284471\n",
            "male             209385\n",
            "mostly_female     37577\n",
            "mostly_male       19232\n",
            "andy              10602\n",
            "Name: gender, dtype: int64\n"
          ],
          "name": "stdout"
        }
      ]
    },
    {
      "metadata": {
        "id": "ko8KFPlAOBLI",
        "colab_type": "code",
        "colab": {
          "base_uri": "https://localhost:8080/",
          "height": 136
        },
        "outputId": "cebb0794-8fe0-4e4c-d88a-701d8d7a206d"
      },
      "cell_type": "code",
      "source": [
        "print(data['gender'].value_counts())"
      ],
      "execution_count": 15,
      "outputs": [
        {
          "output_type": "stream",
          "text": [
            "unknown          900331\n",
            "male             505563\n",
            "female           205240\n",
            "mostly_female     40699\n",
            "mostly_male       34872\n",
            "andy              10828\n",
            "Name: gender, dtype: int64\n"
          ],
          "name": "stdout"
        }
      ]
    },
    {
      "metadata": {
        "id": "p2_lI2ZIOaQ7",
        "colab_type": "code",
        "colab": {}
      },
      "cell_type": "code",
      "source": [
        "df1 = df.loc[df['gender'].isin(['male','female'])]\n",
        "df2 = data.loc[data['gender'].isin(['male','female'])]"
      ],
      "execution_count": 0,
      "outputs": []
    },
    {
      "metadata": {
        "id": "NZ4eOJT_QAt2",
        "colab_type": "code",
        "colab": {
          "base_uri": "https://localhost:8080/",
          "height": 717
        },
        "outputId": "0d20dab0-ca5f-406a-c83a-b92529a73922"
      },
      "cell_type": "code",
      "source": [
        "df2['gender_encoded'] = df2['gender']\n",
        "df2['gender_encoded'] = pd.get_dummies(df2['gender_encoded'])\n",
        "df2.head(5)"
      ],
      "execution_count": 31,
      "outputs": [
        {
          "output_type": "stream",
          "text": [
            "/usr/local/lib/python3.6/dist-packages/ipykernel_launcher.py:1: SettingWithCopyWarning: \n",
            "A value is trying to be set on a copy of a slice from a DataFrame.\n",
            "Try using .loc[row_indexer,col_indexer] = value instead\n",
            "\n",
            "See the caveats in the documentation: http://pandas.pydata.org/pandas-docs/stable/indexing.html#indexing-view-versus-copy\n",
            "  \"\"\"Entry point for launching an IPython kernel.\n",
            "/usr/local/lib/python3.6/dist-packages/ipykernel_launcher.py:2: SettingWithCopyWarning: \n",
            "A value is trying to be set on a copy of a slice from a DataFrame.\n",
            "Try using .loc[row_indexer,col_indexer] = value instead\n",
            "\n",
            "See the caveats in the documentation: http://pandas.pydata.org/pandas-docs/stable/indexing.html#indexing-view-versus-copy\n",
            "  \n"
          ],
          "name": "stderr"
        },
        {
          "output_type": "execute_result",
          "data": {
            "text/html": [
              "<div>\n",
              "<style scoped>\n",
              "    .dataframe tbody tr th:only-of-type {\n",
              "        vertical-align: middle;\n",
              "    }\n",
              "\n",
              "    .dataframe tbody tr th {\n",
              "        vertical-align: top;\n",
              "    }\n",
              "\n",
              "    .dataframe thead th {\n",
              "        text-align: right;\n",
              "    }\n",
              "</style>\n",
              "<table border=\"1\" class=\"dataframe\">\n",
              "  <thead>\n",
              "    <tr style=\"text-align: right;\">\n",
              "      <th></th>\n",
              "      <th>reviewerID</th>\n",
              "      <th>asin</th>\n",
              "      <th>reviewerName</th>\n",
              "      <th>helpful</th>\n",
              "      <th>reviewText</th>\n",
              "      <th>overall</th>\n",
              "      <th>summary</th>\n",
              "      <th>unixReviewTime</th>\n",
              "      <th>reviewTime</th>\n",
              "      <th>first_name</th>\n",
              "      <th>gender</th>\n",
              "      <th>gender_encoded</th>\n",
              "    </tr>\n",
              "  </thead>\n",
              "  <tbody>\n",
              "    <tr>\n",
              "      <th>0</th>\n",
              "      <td>ADZPIG9QOCDG5</td>\n",
              "      <td>0005019281</td>\n",
              "      <td>Alice L. Larson \"alice-loves-books\"</td>\n",
              "      <td>[0, 0]</td>\n",
              "      <td>This is a charming version of the classic Dick...</td>\n",
              "      <td>4.0</td>\n",
              "      <td>good version of a classic</td>\n",
              "      <td>1203984000</td>\n",
              "      <td>02 26, 2008</td>\n",
              "      <td>Alice</td>\n",
              "      <td>female</td>\n",
              "      <td>1</td>\n",
              "    </tr>\n",
              "    <tr>\n",
              "      <th>12</th>\n",
              "      <td>AG8D804FUG5Y4</td>\n",
              "      <td>0005019281</td>\n",
              "      <td>Bud Harris \"Bud 101\"</td>\n",
              "      <td>[0, 1]</td>\n",
              "      <td>My wife told me of this movie in which Henry W...</td>\n",
              "      <td>3.0</td>\n",
              "      <td>Christmas</td>\n",
              "      <td>1199836800</td>\n",
              "      <td>01 9, 2008</td>\n",
              "      <td>Bud</td>\n",
              "      <td>male</td>\n",
              "      <td>0</td>\n",
              "    </tr>\n",
              "    <tr>\n",
              "      <th>14</th>\n",
              "      <td>A3VT62AP8KEK3V</td>\n",
              "      <td>0005019281</td>\n",
              "      <td>Carolyn N.</td>\n",
              "      <td>[1, 1]</td>\n",
              "      <td>Set in the USA about the time of the depressio...</td>\n",
              "      <td>4.0</td>\n",
              "      <td>It's a Christmas Carol</td>\n",
              "      <td>1387497600</td>\n",
              "      <td>12 20, 2013</td>\n",
              "      <td>Carolyn</td>\n",
              "      <td>female</td>\n",
              "      <td>1</td>\n",
              "    </tr>\n",
              "    <tr>\n",
              "      <th>16</th>\n",
              "      <td>A1GQF4JDJXBRLH</td>\n",
              "      <td>0005019281</td>\n",
              "      <td>Charles A. Hickson \"Chas\"</td>\n",
              "      <td>[0, 0]</td>\n",
              "      <td>This is a wonderful movie. It stay faithful to...</td>\n",
              "      <td>5.0</td>\n",
              "      <td>Great Christmas movie for the family</td>\n",
              "      <td>1173312000</td>\n",
              "      <td>03 8, 2007</td>\n",
              "      <td>Charles</td>\n",
              "      <td>male</td>\n",
              "      <td>0</td>\n",
              "    </tr>\n",
              "    <tr>\n",
              "      <th>20</th>\n",
              "      <td>A2Q8O413HJZ55E</td>\n",
              "      <td>0005019281</td>\n",
              "      <td>Clifford J. Carroll</td>\n",
              "      <td>[0, 2]</td>\n",
              "      <td>We began watching this video, but stopped it a...</td>\n",
              "      <td>2.0</td>\n",
              "      <td>An American Christmas Carol</td>\n",
              "      <td>1378339200</td>\n",
              "      <td>09 5, 2013</td>\n",
              "      <td>Clifford</td>\n",
              "      <td>male</td>\n",
              "      <td>0</td>\n",
              "    </tr>\n",
              "  </tbody>\n",
              "</table>\n",
              "</div>"
            ],
            "text/plain": [
              "        reviewerID        asin                         reviewerName helpful  \\\n",
              "0    ADZPIG9QOCDG5  0005019281  Alice L. Larson \"alice-loves-books\"  [0, 0]   \n",
              "12   AG8D804FUG5Y4  0005019281                 Bud Harris \"Bud 101\"  [0, 1]   \n",
              "14  A3VT62AP8KEK3V  0005019281                           Carolyn N.  [1, 1]   \n",
              "16  A1GQF4JDJXBRLH  0005019281            Charles A. Hickson \"Chas\"  [0, 0]   \n",
              "20  A2Q8O413HJZ55E  0005019281                  Clifford J. Carroll  [0, 2]   \n",
              "\n",
              "                                           reviewText  overall  \\\n",
              "0   This is a charming version of the classic Dick...      4.0   \n",
              "12  My wife told me of this movie in which Henry W...      3.0   \n",
              "14  Set in the USA about the time of the depressio...      4.0   \n",
              "16  This is a wonderful movie. It stay faithful to...      5.0   \n",
              "20  We began watching this video, but stopped it a...      2.0   \n",
              "\n",
              "                                 summary  unixReviewTime   reviewTime  \\\n",
              "0              good version of a classic      1203984000  02 26, 2008   \n",
              "12                             Christmas      1199836800   01 9, 2008   \n",
              "14                It's a Christmas Carol      1387497600  12 20, 2013   \n",
              "16  Great Christmas movie for the family      1173312000   03 8, 2007   \n",
              "20           An American Christmas Carol      1378339200   09 5, 2013   \n",
              "\n",
              "   first_name  gender  gender_encoded  \n",
              "0       Alice  female               1  \n",
              "12        Bud    male               0  \n",
              "14    Carolyn  female               1  \n",
              "16    Charles    male               0  \n",
              "20   Clifford    male               0  "
            ]
          },
          "metadata": {
            "tags": []
          },
          "execution_count": 31
        }
      ]
    },
    {
      "metadata": {
        "id": "9tldHyFARDRX",
        "colab_type": "code",
        "colab": {
          "base_uri": "https://localhost:8080/",
          "height": 700
        },
        "outputId": "d076dffe-d515-465e-ae39-1baec477c767"
      },
      "cell_type": "code",
      "source": [
        "df1['gender_encoded'] = df1['gender']\n",
        "df1['gender_encoded'] = pd.get_dummies(df1['gender_encoded'])\n",
        "df1.head(5)"
      ],
      "execution_count": 40,
      "outputs": [
        {
          "output_type": "stream",
          "text": [
            "/usr/local/lib/python3.6/dist-packages/ipykernel_launcher.py:1: SettingWithCopyWarning: \n",
            "A value is trying to be set on a copy of a slice from a DataFrame.\n",
            "Try using .loc[row_indexer,col_indexer] = value instead\n",
            "\n",
            "See the caveats in the documentation: http://pandas.pydata.org/pandas-docs/stable/indexing.html#indexing-view-versus-copy\n",
            "  \"\"\"Entry point for launching an IPython kernel.\n",
            "/usr/local/lib/python3.6/dist-packages/ipykernel_launcher.py:2: SettingWithCopyWarning: \n",
            "A value is trying to be set on a copy of a slice from a DataFrame.\n",
            "Try using .loc[row_indexer,col_indexer] = value instead\n",
            "\n",
            "See the caveats in the documentation: http://pandas.pydata.org/pandas-docs/stable/indexing.html#indexing-view-versus-copy\n",
            "  \n"
          ],
          "name": "stderr"
        },
        {
          "output_type": "execute_result",
          "data": {
            "text/html": [
              "<div>\n",
              "<style scoped>\n",
              "    .dataframe tbody tr th:only-of-type {\n",
              "        vertical-align: middle;\n",
              "    }\n",
              "\n",
              "    .dataframe tbody tr th {\n",
              "        vertical-align: top;\n",
              "    }\n",
              "\n",
              "    .dataframe thead th {\n",
              "        text-align: right;\n",
              "    }\n",
              "</style>\n",
              "<table border=\"1\" class=\"dataframe\">\n",
              "  <thead>\n",
              "    <tr style=\"text-align: right;\">\n",
              "      <th></th>\n",
              "      <th>reviewerID</th>\n",
              "      <th>asin</th>\n",
              "      <th>reviewerName</th>\n",
              "      <th>helpful</th>\n",
              "      <th>reviewText</th>\n",
              "      <th>overall</th>\n",
              "      <th>summary</th>\n",
              "      <th>unixReviewTime</th>\n",
              "      <th>reviewTime</th>\n",
              "      <th>first_name</th>\n",
              "      <th>gender</th>\n",
              "      <th>gender_encoded</th>\n",
              "    </tr>\n",
              "  </thead>\n",
              "  <tbody>\n",
              "    <tr>\n",
              "      <th>2</th>\n",
              "      <td>A3I0AV0UJX5OH0</td>\n",
              "      <td>1403796890</td>\n",
              "      <td>Alicia b</td>\n",
              "      <td>[0, 0]</td>\n",
              "      <td>I ordered spongbob slippers and I got John Cen...</td>\n",
              "      <td>1.0</td>\n",
              "      <td>grrrrrrr</td>\n",
              "      <td>1385942400</td>\n",
              "      <td>12 2, 2013</td>\n",
              "      <td>Alicia</td>\n",
              "      <td>female</td>\n",
              "      <td>1</td>\n",
              "    </tr>\n",
              "    <tr>\n",
              "      <th>3</th>\n",
              "      <td>A3QAAOLIXKV383</td>\n",
              "      <td>1403796890</td>\n",
              "      <td>Danny K. Tilley \"Dan Tilley\"</td>\n",
              "      <td>[0, 0]</td>\n",
              "      <td>The cart is fine and works for the purpose for...</td>\n",
              "      <td>3.0</td>\n",
              "      <td>Storage on Wheels Cart</td>\n",
              "      <td>1307836800</td>\n",
              "      <td>06 12, 2011</td>\n",
              "      <td>Danny</td>\n",
              "      <td>male</td>\n",
              "      <td>0</td>\n",
              "    </tr>\n",
              "    <tr>\n",
              "      <th>6</th>\n",
              "      <td>A3LZA698SQPCXE</td>\n",
              "      <td>1453060464</td>\n",
              "      <td>Trevor L \"God is on the side of the army with...</td>\n",
              "      <td>[0, 0]</td>\n",
              "      <td>My wife picked some of this up on sale.  I usu...</td>\n",
              "      <td>3.0</td>\n",
              "      <td>Tastes a Bit  like Cough Syrup</td>\n",
              "      <td>1374019200</td>\n",
              "      <td>07 17, 2013</td>\n",
              "      <td>Trevor</td>\n",
              "      <td>male</td>\n",
              "      <td>0</td>\n",
              "    </tr>\n",
              "    <tr>\n",
              "      <th>10</th>\n",
              "      <td>A11WU9TYDLB1RG</td>\n",
              "      <td>1613170416</td>\n",
              "      <td>Jon Stoffel</td>\n",
              "      <td>[3, 3]</td>\n",
              "      <td>And they're pretty nice! One set looks like ic...</td>\n",
              "      <td>4.0</td>\n",
              "      <td>They're dice!</td>\n",
              "      <td>1392163200</td>\n",
              "      <td>02 12, 2014</td>\n",
              "      <td>Jon</td>\n",
              "      <td>male</td>\n",
              "      <td>0</td>\n",
              "    </tr>\n",
              "    <tr>\n",
              "      <th>12</th>\n",
              "      <td>A26LKBXTSIHQV2</td>\n",
              "      <td>1613170416</td>\n",
              "      <td>Timothy Harms</td>\n",
              "      <td>[0, 0]</td>\n",
              "      <td>As a Dresden Files fan, i just had to get the ...</td>\n",
              "      <td>5.0</td>\n",
              "      <td>Dresden Files!</td>\n",
              "      <td>1398902400</td>\n",
              "      <td>05 1, 2014</td>\n",
              "      <td>Timothy</td>\n",
              "      <td>male</td>\n",
              "      <td>0</td>\n",
              "    </tr>\n",
              "  </tbody>\n",
              "</table>\n",
              "</div>"
            ],
            "text/plain": [
              "        reviewerID        asin  \\\n",
              "2   A3I0AV0UJX5OH0  1403796890   \n",
              "3   A3QAAOLIXKV383  1403796890   \n",
              "6   A3LZA698SQPCXE  1453060464   \n",
              "10  A11WU9TYDLB1RG  1613170416   \n",
              "12  A26LKBXTSIHQV2  1613170416   \n",
              "\n",
              "                                        reviewerName helpful  \\\n",
              "2                                           Alicia b  [0, 0]   \n",
              "3                       Danny K. Tilley \"Dan Tilley\"  [0, 0]   \n",
              "6   Trevor L \"God is on the side of the army with...  [0, 0]   \n",
              "10                                       Jon Stoffel  [3, 3]   \n",
              "12                                     Timothy Harms  [0, 0]   \n",
              "\n",
              "                                           reviewText  overall  \\\n",
              "2   I ordered spongbob slippers and I got John Cen...      1.0   \n",
              "3   The cart is fine and works for the purpose for...      3.0   \n",
              "6   My wife picked some of this up on sale.  I usu...      3.0   \n",
              "10  And they're pretty nice! One set looks like ic...      4.0   \n",
              "12  As a Dresden Files fan, i just had to get the ...      5.0   \n",
              "\n",
              "                           summary  unixReviewTime   reviewTime first_name  \\\n",
              "2                         grrrrrrr      1385942400   12 2, 2013     Alicia   \n",
              "3           Storage on Wheels Cart      1307836800  06 12, 2011      Danny   \n",
              "6   Tastes a Bit  like Cough Syrup      1374019200  07 17, 2013     Trevor   \n",
              "10                   They're dice!      1392163200  02 12, 2014        Jon   \n",
              "12                  Dresden Files!      1398902400   05 1, 2014    Timothy   \n",
              "\n",
              "    gender  gender_encoded  \n",
              "2   female               1  \n",
              "3     male               0  \n",
              "6     male               0  \n",
              "10    male               0  \n",
              "12    male               0  "
            ]
          },
          "metadata": {
            "tags": []
          },
          "execution_count": 40
        }
      ]
    },
    {
      "metadata": {
        "id": "soI2tQcpOh1P",
        "colab_type": "code",
        "colab": {
          "base_uri": "https://localhost:8080/",
          "height": 119
        },
        "outputId": "805b3d90-379a-42a9-9c48-c16cbebd839b"
      },
      "cell_type": "code",
      "source": [
        "print(df1['gender'].value_counts())\n",
        "print(df2['gender'].value_counts())"
      ],
      "execution_count": 41,
      "outputs": [
        {
          "output_type": "stream",
          "text": [
            "female    284471\n",
            "male      209385\n",
            "Name: gender, dtype: int64\n",
            "male      505563\n",
            "female    205240\n",
            "Name: gender, dtype: int64\n"
          ],
          "name": "stdout"
        }
      ]
    },
    {
      "metadata": {
        "id": "y6qRUoD4OtjV",
        "colab_type": "code",
        "colab": {
          "base_uri": "https://localhost:8080/",
          "height": 221
        },
        "outputId": "e6a0840e-2ab8-40b2-c434-b7ad29bc5038"
      },
      "cell_type": "code",
      "source": [
        "df3 = df1[['reviewText', 'gender_encoded']]\n",
        "print(df3.shape)\n",
        "df3.head(5)"
      ],
      "execution_count": 42,
      "outputs": [
        {
          "output_type": "stream",
          "text": [
            "(493856, 2)\n"
          ],
          "name": "stdout"
        },
        {
          "output_type": "execute_result",
          "data": {
            "text/html": [
              "<div>\n",
              "<style scoped>\n",
              "    .dataframe tbody tr th:only-of-type {\n",
              "        vertical-align: middle;\n",
              "    }\n",
              "\n",
              "    .dataframe tbody tr th {\n",
              "        vertical-align: top;\n",
              "    }\n",
              "\n",
              "    .dataframe thead th {\n",
              "        text-align: right;\n",
              "    }\n",
              "</style>\n",
              "<table border=\"1\" class=\"dataframe\">\n",
              "  <thead>\n",
              "    <tr style=\"text-align: right;\">\n",
              "      <th></th>\n",
              "      <th>reviewText</th>\n",
              "      <th>gender_encoded</th>\n",
              "    </tr>\n",
              "  </thead>\n",
              "  <tbody>\n",
              "    <tr>\n",
              "      <th>2</th>\n",
              "      <td>I ordered spongbob slippers and I got John Cen...</td>\n",
              "      <td>1</td>\n",
              "    </tr>\n",
              "    <tr>\n",
              "      <th>3</th>\n",
              "      <td>The cart is fine and works for the purpose for...</td>\n",
              "      <td>0</td>\n",
              "    </tr>\n",
              "    <tr>\n",
              "      <th>6</th>\n",
              "      <td>My wife picked some of this up on sale.  I usu...</td>\n",
              "      <td>0</td>\n",
              "    </tr>\n",
              "    <tr>\n",
              "      <th>10</th>\n",
              "      <td>And they're pretty nice! One set looks like ic...</td>\n",
              "      <td>0</td>\n",
              "    </tr>\n",
              "    <tr>\n",
              "      <th>12</th>\n",
              "      <td>As a Dresden Files fan, i just had to get the ...</td>\n",
              "      <td>0</td>\n",
              "    </tr>\n",
              "  </tbody>\n",
              "</table>\n",
              "</div>"
            ],
            "text/plain": [
              "                                           reviewText  gender_encoded\n",
              "2   I ordered spongbob slippers and I got John Cen...               1\n",
              "3   The cart is fine and works for the purpose for...               0\n",
              "6   My wife picked some of this up on sale.  I usu...               0\n",
              "10  And they're pretty nice! One set looks like ic...               0\n",
              "12  As a Dresden Files fan, i just had to get the ...               0"
            ]
          },
          "metadata": {
            "tags": []
          },
          "execution_count": 42
        }
      ]
    },
    {
      "metadata": {
        "id": "YJpJ_A7mO0w3",
        "colab_type": "code",
        "colab": {
          "base_uri": "https://localhost:8080/",
          "height": 221
        },
        "outputId": "6b140938-1885-4e49-d439-de1cd68b1e13"
      },
      "cell_type": "code",
      "source": [
        "df4 = df2[['reviewText', 'gender_encoded']]\n",
        "print(df4.shape)\n",
        "df4.head(5)"
      ],
      "execution_count": 43,
      "outputs": [
        {
          "output_type": "stream",
          "text": [
            "(710803, 2)\n"
          ],
          "name": "stdout"
        },
        {
          "output_type": "execute_result",
          "data": {
            "text/html": [
              "<div>\n",
              "<style scoped>\n",
              "    .dataframe tbody tr th:only-of-type {\n",
              "        vertical-align: middle;\n",
              "    }\n",
              "\n",
              "    .dataframe tbody tr th {\n",
              "        vertical-align: top;\n",
              "    }\n",
              "\n",
              "    .dataframe thead th {\n",
              "        text-align: right;\n",
              "    }\n",
              "</style>\n",
              "<table border=\"1\" class=\"dataframe\">\n",
              "  <thead>\n",
              "    <tr style=\"text-align: right;\">\n",
              "      <th></th>\n",
              "      <th>reviewText</th>\n",
              "      <th>gender_encoded</th>\n",
              "    </tr>\n",
              "  </thead>\n",
              "  <tbody>\n",
              "    <tr>\n",
              "      <th>0</th>\n",
              "      <td>This is a charming version of the classic Dick...</td>\n",
              "      <td>1</td>\n",
              "    </tr>\n",
              "    <tr>\n",
              "      <th>12</th>\n",
              "      <td>My wife told me of this movie in which Henry W...</td>\n",
              "      <td>0</td>\n",
              "    </tr>\n",
              "    <tr>\n",
              "      <th>14</th>\n",
              "      <td>Set in the USA about the time of the depressio...</td>\n",
              "      <td>1</td>\n",
              "    </tr>\n",
              "    <tr>\n",
              "      <th>16</th>\n",
              "      <td>This is a wonderful movie. It stay faithful to...</td>\n",
              "      <td>0</td>\n",
              "    </tr>\n",
              "    <tr>\n",
              "      <th>20</th>\n",
              "      <td>We began watching this video, but stopped it a...</td>\n",
              "      <td>0</td>\n",
              "    </tr>\n",
              "  </tbody>\n",
              "</table>\n",
              "</div>"
            ],
            "text/plain": [
              "                                           reviewText  gender_encoded\n",
              "0   This is a charming version of the classic Dick...               1\n",
              "12  My wife told me of this movie in which Henry W...               0\n",
              "14  Set in the USA about the time of the depressio...               1\n",
              "16  This is a wonderful movie. It stay faithful to...               0\n",
              "20  We began watching this video, but stopped it a...               0"
            ]
          },
          "metadata": {
            "tags": []
          },
          "execution_count": 43
        }
      ]
    },
    {
      "metadata": {
        "id": "HIKEagijO6SK",
        "colab_type": "code",
        "colab": {
          "base_uri": "https://localhost:8080/",
          "height": 34
        },
        "outputId": "5d947f5f-a24d-4702-a768-dc207137236b"
      },
      "cell_type": "code",
      "source": [
        "final_data = pd.concat([df3, df4], axis=0)\n",
        "final_data.shape"
      ],
      "execution_count": 44,
      "outputs": [
        {
          "output_type": "execute_result",
          "data": {
            "text/plain": [
              "(1204659, 2)"
            ]
          },
          "metadata": {
            "tags": []
          },
          "execution_count": 44
        }
      ]
    },
    {
      "metadata": {
        "id": "TpqtVHDdPy33",
        "colab_type": "code",
        "colab": {
          "base_uri": "https://localhost:8080/",
          "height": 359
        },
        "outputId": "8de5db2c-8f5b-407f-badf-aa739cfff27d"
      },
      "cell_type": "code",
      "source": [
        "final_data.head(10)"
      ],
      "execution_count": 45,
      "outputs": [
        {
          "output_type": "execute_result",
          "data": {
            "text/html": [
              "<div>\n",
              "<style scoped>\n",
              "    .dataframe tbody tr th:only-of-type {\n",
              "        vertical-align: middle;\n",
              "    }\n",
              "\n",
              "    .dataframe tbody tr th {\n",
              "        vertical-align: top;\n",
              "    }\n",
              "\n",
              "    .dataframe thead th {\n",
              "        text-align: right;\n",
              "    }\n",
              "</style>\n",
              "<table border=\"1\" class=\"dataframe\">\n",
              "  <thead>\n",
              "    <tr style=\"text-align: right;\">\n",
              "      <th></th>\n",
              "      <th>reviewText</th>\n",
              "      <th>gender_encoded</th>\n",
              "    </tr>\n",
              "  </thead>\n",
              "  <tbody>\n",
              "    <tr>\n",
              "      <th>2</th>\n",
              "      <td>I ordered spongbob slippers and I got John Cen...</td>\n",
              "      <td>1</td>\n",
              "    </tr>\n",
              "    <tr>\n",
              "      <th>3</th>\n",
              "      <td>The cart is fine and works for the purpose for...</td>\n",
              "      <td>0</td>\n",
              "    </tr>\n",
              "    <tr>\n",
              "      <th>6</th>\n",
              "      <td>My wife picked some of this up on sale.  I usu...</td>\n",
              "      <td>0</td>\n",
              "    </tr>\n",
              "    <tr>\n",
              "      <th>10</th>\n",
              "      <td>And they're pretty nice! One set looks like ic...</td>\n",
              "      <td>0</td>\n",
              "    </tr>\n",
              "    <tr>\n",
              "      <th>12</th>\n",
              "      <td>As a Dresden Files fan, i just had to get the ...</td>\n",
              "      <td>0</td>\n",
              "    </tr>\n",
              "    <tr>\n",
              "      <th>13</th>\n",
              "      <td>Umm, OK everyone reading this review, put this...</td>\n",
              "      <td>0</td>\n",
              "    </tr>\n",
              "    <tr>\n",
              "      <th>17</th>\n",
              "      <td>Exactly what is should be.  Tasty and hot! Thi...</td>\n",
              "      <td>1</td>\n",
              "    </tr>\n",
              "    <tr>\n",
              "      <th>19</th>\n",
              "      <td>Fast and hot, did I mention hot, well it's hot</td>\n",
              "      <td>0</td>\n",
              "    </tr>\n",
              "    <tr>\n",
              "      <th>20</th>\n",
              "      <td>Added a few pinches to cheese sauce and took i...</td>\n",
              "      <td>0</td>\n",
              "    </tr>\n",
              "    <tr>\n",
              "      <th>21</th>\n",
              "      <td>The powder is delicious and very spicy as we e...</td>\n",
              "      <td>0</td>\n",
              "    </tr>\n",
              "  </tbody>\n",
              "</table>\n",
              "</div>"
            ],
            "text/plain": [
              "                                           reviewText  gender_encoded\n",
              "2   I ordered spongbob slippers and I got John Cen...               1\n",
              "3   The cart is fine and works for the purpose for...               0\n",
              "6   My wife picked some of this up on sale.  I usu...               0\n",
              "10  And they're pretty nice! One set looks like ic...               0\n",
              "12  As a Dresden Files fan, i just had to get the ...               0\n",
              "13  Umm, OK everyone reading this review, put this...               0\n",
              "17  Exactly what is should be.  Tasty and hot! Thi...               1\n",
              "19     Fast and hot, did I mention hot, well it's hot               0\n",
              "20  Added a few pinches to cheese sauce and took i...               0\n",
              "21  The powder is delicious and very spicy as we e...               0"
            ]
          },
          "metadata": {
            "tags": []
          },
          "execution_count": 45
        }
      ]
    },
    {
      "metadata": {
        "id": "Iz5W9DdJSMOK",
        "colab_type": "code",
        "colab": {
          "base_uri": "https://localhost:8080/",
          "height": 68
        },
        "outputId": "d1616ecf-5b46-40ca-d7d6-17feedb0beb2"
      },
      "cell_type": "code",
      "source": [
        "print(final_data['gender_encoded'].value_counts())\n",
        "#0-male 1-female"
      ],
      "execution_count": 47,
      "outputs": [
        {
          "output_type": "stream",
          "text": [
            "0    714948\n",
            "1    489711\n",
            "Name: gender_encoded, dtype: int64\n"
          ],
          "name": "stdout"
        }
      ]
    },
    {
      "metadata": {
        "id": "t6spkEuaO15k",
        "colab_type": "code",
        "colab": {
          "base_uri": "https://localhost:8080/",
          "height": 204
        },
        "outputId": "579e5619-28d8-4e48-de1e-f90450f51b6c"
      },
      "cell_type": "code",
      "source": [
        "sample_data = final_data.sample(n=300000)\n",
        "sample_data.head(5)"
      ],
      "execution_count": 48,
      "outputs": [
        {
          "output_type": "execute_result",
          "data": {
            "text/html": [
              "<div>\n",
              "<style scoped>\n",
              "    .dataframe tbody tr th:only-of-type {\n",
              "        vertical-align: middle;\n",
              "    }\n",
              "\n",
              "    .dataframe tbody tr th {\n",
              "        vertical-align: top;\n",
              "    }\n",
              "\n",
              "    .dataframe thead th {\n",
              "        text-align: right;\n",
              "    }\n",
              "</style>\n",
              "<table border=\"1\" class=\"dataframe\">\n",
              "  <thead>\n",
              "    <tr style=\"text-align: right;\">\n",
              "      <th></th>\n",
              "      <th>reviewText</th>\n",
              "      <th>gender_encoded</th>\n",
              "    </tr>\n",
              "  </thead>\n",
              "  <tbody>\n",
              "    <tr>\n",
              "      <th>1257919</th>\n",
              "      <td>I got this show at a great price here on amazo...</td>\n",
              "      <td>1</td>\n",
              "    </tr>\n",
              "    <tr>\n",
              "      <th>821071</th>\n",
              "      <td>The kids loved these in their goody bags at my...</td>\n",
              "      <td>1</td>\n",
              "    </tr>\n",
              "    <tr>\n",
              "      <th>156168</th>\n",
              "      <td>This 1972 production is one of the first films...</td>\n",
              "      <td>0</td>\n",
              "    </tr>\n",
              "    <tr>\n",
              "      <th>765838</th>\n",
              "      <td>First off, ignore the hatchet job Fox did if y...</td>\n",
              "      <td>1</td>\n",
              "    </tr>\n",
              "    <tr>\n",
              "      <th>293294</th>\n",
              "      <td>Rawhead Rex to put is plain stupid. I even sho...</td>\n",
              "      <td>0</td>\n",
              "    </tr>\n",
              "  </tbody>\n",
              "</table>\n",
              "</div>"
            ],
            "text/plain": [
              "                                                reviewText  gender_encoded\n",
              "1257919  I got this show at a great price here on amazo...               1\n",
              "821071   The kids loved these in their goody bags at my...               1\n",
              "156168   This 1972 production is one of the first films...               0\n",
              "765838   First off, ignore the hatchet job Fox did if y...               1\n",
              "293294   Rawhead Rex to put is plain stupid. I even sho...               0"
            ]
          },
          "metadata": {
            "tags": []
          },
          "execution_count": 48
        }
      ]
    },
    {
      "metadata": {
        "id": "izZkoIxFO9OL",
        "colab_type": "code",
        "colab": {
          "base_uri": "https://localhost:8080/",
          "height": 68
        },
        "outputId": "89149a0b-277f-44ba-fd11-35e03504361c"
      },
      "cell_type": "code",
      "source": [
        "sample_data['gender_encoded'].value_counts()\n",
        "#0-male 1-female"
      ],
      "execution_count": 50,
      "outputs": [
        {
          "output_type": "execute_result",
          "data": {
            "text/plain": [
              "0    178049\n",
              "1    121951\n",
              "Name: gender_encoded, dtype: int64"
            ]
          },
          "metadata": {
            "tags": []
          },
          "execution_count": 50
        }
      ]
    },
    {
      "metadata": {
        "id": "zh-MfhJSPFL0",
        "colab_type": "code",
        "colab": {}
      },
      "cell_type": "code",
      "source": [
        "import nltk\n",
        "from nltk.corpus import stopwords\n",
        "from nltk import word_tokenize"
      ],
      "execution_count": 0,
      "outputs": []
    },
    {
      "metadata": {
        "id": "wkCSOZ8oPJrY",
        "colab_type": "code",
        "colab": {
          "base_uri": "https://localhost:8080/",
          "height": 85
        },
        "outputId": "5668c357-7dbc-4f0b-97cd-99aefb02b1d6"
      },
      "cell_type": "code",
      "source": [
        "nltk.download('punkt')\n",
        "nltk.download('stopwords')\n",
        "stop_words = set(stopwords.words('english'))"
      ],
      "execution_count": 52,
      "outputs": [
        {
          "output_type": "stream",
          "text": [
            "[nltk_data] Downloading package punkt to /root/nltk_data...\n",
            "[nltk_data]   Package punkt is already up-to-date!\n",
            "[nltk_data] Downloading package stopwords to /root/nltk_data...\n",
            "[nltk_data]   Package stopwords is already up-to-date!\n"
          ],
          "name": "stdout"
        }
      ]
    },
    {
      "metadata": {
        "id": "rvdD29rwPMi3",
        "colab_type": "code",
        "colab": {}
      },
      "cell_type": "code",
      "source": [
        "contractions = { \n",
        "\"ain't\": \"am not\",\n",
        "\"aren't\": \"are not\",\n",
        "\"can't\": \"cannot\",\n",
        "\"can't've\": \"cannot have\",\n",
        "\"'cause\": \"because\",\n",
        "\"could've\": \"could have\",\n",
        "\"couldn't\": \"could not\",\n",
        "\"couldn't've\": \"could not have\",\n",
        "\"didn't\": \"did not\",\n",
        "\"doesn't\": \"does not\",\n",
        "\"don't\": \"do not\",\n",
        "\"hadn't\": \"had not\",\n",
        "\"hadn't've\": \"had not have\",\n",
        "\"hasn't\": \"has not\",\n",
        "\"haven't\": \"have not\",\n",
        "\"he'd\": \"he would\",\n",
        "\"he'd've\": \"he would have\",\n",
        "\"he'll\": \"he will\",\n",
        "\"he's\": \"he is\",\n",
        "\"how'd\": \"how did\",\n",
        "\"how'll\": \"how will\",\n",
        "\"how's\": \"how is\",\n",
        "\"i'd\": \"i would\",\n",
        "\"i'll\": \"i will\",\n",
        "\"i'm\": \"i am\",\n",
        "\"i've\": \"i have\",\n",
        "\"isn't\": \"is not\",\n",
        "\"it'd\": \"it would\",\n",
        "\"it'll\": \"it will\",\n",
        "\"it's\": \"it is\",\n",
        "\"let's\": \"let us\",\n",
        "\"ma'am\": \"madam\",\n",
        "\"mayn't\": \"may not\",\n",
        "\"might've\": \"might have\",\n",
        "\"mightn't\": \"might not\",\n",
        "\"must've\": \"must have\",\n",
        "\"mustn't\": \"must not\",\n",
        "\"needn't\": \"need not\",\n",
        "\"oughtn't\": \"ought not\",\n",
        "\"shan't\": \"shall not\",\n",
        "\"sha'n't\": \"shall not\",\n",
        "\"she'd\": \"she would\",\n",
        "\"she'll\": \"she will\",\n",
        "\"she's\": \"she is\",\n",
        "\"should've\": \"should have\",\n",
        "\"shouldn't\": \"should not\",\n",
        "\"that'd\": \"that would\",\n",
        "\"that's\": \"that is\",\n",
        "\"there'd\": \"there had\",\n",
        "\"there's\": \"there is\",\n",
        "\"they'd\": \"they would\",\n",
        "\"they'll\": \"they will\",\n",
        "\"they're\": \"they are\",\n",
        "\"they've\": \"they have\",\n",
        "\"wasn't\": \"was not\",\n",
        "\"we'd\": \"we would\",\n",
        "\"we'll\": \"we will\",\n",
        "\"we're\": \"we are\",\n",
        "\"we've\": \"we have\",\n",
        "\"weren't\": \"were not\",\n",
        "\"what'll\": \"what will\",\n",
        "\"what're\": \"what are\",\n",
        "\"what's\": \"what is\",\n",
        "\"what've\": \"what have\",\n",
        "\"where'd\": \"where did\",\n",
        "\"where's\": \"where is\",\n",
        "\"who'll\": \"who will\",\n",
        "\"who's\": \"who is\",\n",
        "\"won't\": \"will not\",\n",
        "\"wouldn't\": \"would not\",\n",
        "\"you'd\": \"you would\",\n",
        "\"you'll\": \"you will\",\n",
        "\"you're\": \"you are\"\n",
        "}"
      ],
      "execution_count": 0,
      "outputs": []
    },
    {
      "metadata": {
        "id": "wADkYYaTPQx6",
        "colab_type": "code",
        "colab": {
          "base_uri": "https://localhost:8080/",
          "height": 204
        },
        "outputId": "02a4e80b-74ab-48fe-e059-abf3048a145c"
      },
      "cell_type": "code",
      "source": [
        "import re\n",
        "ps = nltk.PorterStemmer()\n",
        "#preprocess the dataset\n",
        "text = sample_data['reviewText']\n",
        "def preprocess_text(text,remove_stopwords=True):\n",
        "    # Convert words to lower case\n",
        "    text = text.lower()\n",
        "    # Replace contractions with their longer forms \n",
        "    if True:\n",
        "        # We are not using \"text.split()\" here\n",
        "        #since it is not fool proof, e.g. words followed by punctuations \"Are you kidding?I think you aren't.\"\n",
        "        text = re.findall(r\"[\\w']+\", text)\n",
        "        new_text = []\n",
        "        for word in text:\n",
        "            if word in contractions:\n",
        "                new_text.append(contractions[word])\n",
        "            else:\n",
        "                new_text.append(word)\n",
        "        text = \" \".join(new_text)\n",
        "    \n",
        "    # Format words and remove unwanted characters\n",
        "    text = re.sub(r'https?:\\/\\/.*[\\r\\n]*', '', text, flags=re.MULTILINE)# remove links\n",
        "    text = re.sub(r'\\<a href', ' ', text)# remove html link tag\n",
        "    text = re.sub(r'&amp;', '', text) \n",
        "    text = re.sub(r'[_\"\\-;%()|+&=*%.,!?:#$@\\[\\]/]', ' ', text)\n",
        "    text = re.sub(r'<br />', ' ', text)\n",
        "    text = re.sub(r'\\'', ' ', text)\n",
        "    \n",
        "    # Optionally, remove stop words\n",
        "    if remove_stopwords:\n",
        "        text = text.split()\n",
        "        stops = set(stopwords.words(\"english\"))\n",
        "        text = [w for w in text if not w in stops]\n",
        "        text = \" \".join(text)\n",
        "\n",
        "    return text\n",
        "       \n",
        "clean_data = sample_data.copy()  \n",
        "clean_data['reviewText'] = text.apply(preprocess_text) \n",
        "clean_data.head()"
      ],
      "execution_count": 54,
      "outputs": [
        {
          "output_type": "execute_result",
          "data": {
            "text/html": [
              "<div>\n",
              "<style scoped>\n",
              "    .dataframe tbody tr th:only-of-type {\n",
              "        vertical-align: middle;\n",
              "    }\n",
              "\n",
              "    .dataframe tbody tr th {\n",
              "        vertical-align: top;\n",
              "    }\n",
              "\n",
              "    .dataframe thead th {\n",
              "        text-align: right;\n",
              "    }\n",
              "</style>\n",
              "<table border=\"1\" class=\"dataframe\">\n",
              "  <thead>\n",
              "    <tr style=\"text-align: right;\">\n",
              "      <th></th>\n",
              "      <th>reviewText</th>\n",
              "      <th>gender_encoded</th>\n",
              "    </tr>\n",
              "  </thead>\n",
              "  <tbody>\n",
              "    <tr>\n",
              "      <th>1257919</th>\n",
              "      <td>got show great price amazon well huge fan show...</td>\n",
              "      <td>1</td>\n",
              "    </tr>\n",
              "    <tr>\n",
              "      <th>821071</th>\n",
              "      <td>kids loved goody bags son lego party seller go...</td>\n",
              "      <td>1</td>\n",
              "    </tr>\n",
              "    <tr>\n",
              "      <th>156168</th>\n",
              "      <td>1972 production one first films present violen...</td>\n",
              "      <td>0</td>\n",
              "    </tr>\n",
              "    <tr>\n",
              "      <th>765838</th>\n",
              "      <td>first ignore hatchet job fox saw firefly airin...</td>\n",
              "      <td>1</td>\n",
              "    </tr>\n",
              "    <tr>\n",
              "      <th>293294</th>\n",
              "      <td>rawhead rex put plain stupid even showed movie...</td>\n",
              "      <td>0</td>\n",
              "    </tr>\n",
              "  </tbody>\n",
              "</table>\n",
              "</div>"
            ],
            "text/plain": [
              "                                                reviewText  gender_encoded\n",
              "1257919  got show great price amazon well huge fan show...               1\n",
              "821071   kids loved goody bags son lego party seller go...               1\n",
              "156168   1972 production one first films present violen...               0\n",
              "765838   first ignore hatchet job fox saw firefly airin...               1\n",
              "293294   rawhead rex put plain stupid even showed movie...               0"
            ]
          },
          "metadata": {
            "tags": []
          },
          "execution_count": 54
        }
      ]
    },
    {
      "metadata": {
        "id": "jEw1z47bPWPg",
        "colab_type": "code",
        "colab": {}
      },
      "cell_type": "code",
      "source": [
        "x = clean_data['reviewText']\n",
        "y = clean_data['gender_encoded']"
      ],
      "execution_count": 0,
      "outputs": []
    },
    {
      "metadata": {
        "id": "0T17znbUPZpf",
        "colab_type": "code",
        "colab": {
          "base_uri": "https://localhost:8080/",
          "height": 34
        },
        "outputId": "e60c124b-5edc-4d4f-d6d5-d0fc37b78ad3"
      },
      "cell_type": "code",
      "source": [
        "from sklearn.model_selection import train_test_split\n",
        "from keras.preprocessing import sequence\n",
        "from keras.models import Sequential\n",
        "from keras.layers import Dense,GlobalAveragePooling1D\n",
        "from keras.layers.embeddings import Embedding\n",
        "from keras.layers import Convolution1D, Flatten, Dropout,MaxPooling1D\n",
        "from tensorflow.python.keras.preprocessing.text import Tokenizer\n",
        "import numpy as np"
      ],
      "execution_count": 56,
      "outputs": [
        {
          "output_type": "stream",
          "text": [
            "Using TensorFlow backend.\n"
          ],
          "name": "stderr"
        }
      ]
    },
    {
      "metadata": {
        "id": "QXvxsqHnPcFI",
        "colab_type": "code",
        "colab": {
          "base_uri": "https://localhost:8080/",
          "height": 51
        },
        "outputId": "2ec54e97-246b-4d44-f4d5-1bdad51ee2b8"
      },
      "cell_type": "code",
      "source": [
        "print('Loading data...')\n",
        "x_train_text, x_test_text, y_train, y_test = train_test_split(\n",
        "      x, y, test_size=0.2, random_state=42)\n",
        "# combine text for total corpus for tokenizing later\n",
        "data_text = x_train_text + x_test_text\n",
        "top_words = 15000\n",
        "tokenizer = Tokenizer(num_words=top_words)\n",
        "tokenizer.fit_on_texts(x)\n",
        "x_train_tokens  = tokenizer.texts_to_sequences(x_train_text)\n",
        "x_test_tokens = tokenizer.texts_to_sequences(x_test_text)\n",
        "num_tokens = [len(tokens) for tokens in x_train_tokens + x_test_tokens]\n",
        "num_tokens = np.array(num_tokens)\n",
        "max_tokens = np.mean(num_tokens) + 2 * np.std(num_tokens)\n",
        "max_tokens = int(max_tokens)\n",
        "print (max_tokens)\n",
        "from tensorflow.python.keras.preprocessing.sequence import pad_sequences\n",
        "pad = 'pre'\n",
        "x_train_pad = pad_sequences(x_train_tokens, maxlen=max_tokens,\n",
        "                            padding=pad, truncating=pad)\n",
        "x_test_pad = pad_sequences(x_test_tokens, maxlen=max_tokens,\n",
        "                           padding=pad, truncating=pad)\n",
        "from keras.utils import to_categorical  # Makes \"one-hot\" encoding from label\n",
        "\n",
        "y_train_hot = to_categorical(y_train, num_classes=2)\n",
        "y_test_hot = to_categorical(y_test, num_classes=2)\n",
        "embedding_size = 150"
      ],
      "execution_count": 57,
      "outputs": [
        {
          "output_type": "stream",
          "text": [
            "Loading data...\n",
            "238\n"
          ],
          "name": "stdout"
        }
      ]
    },
    {
      "metadata": {
        "id": "0sDzuXRxPfMw",
        "colab_type": "code",
        "colab": {
          "base_uri": "https://localhost:8080/",
          "height": 102
        },
        "outputId": "16954213-09b7-419a-812d-fc64bbaae3ca"
      },
      "cell_type": "code",
      "source": [
        "# define model\n",
        "model = Sequential()\n",
        "model.add(Embedding(input_dim=top_words,\n",
        "                    output_dim=embedding_size,\n",
        "                    input_length=max_tokens,\n",
        "                    name='layer_embedding'))\n",
        "model.add(Convolution1D(256, 3, padding='same'))\n",
        "model.add(Convolution1D(128, 3, padding='same'))\n",
        "model.add(MaxPooling1D(pool_size=2))\n",
        "model.add(Convolution1D(64, 3, padding='same'))\n",
        "model.add(MaxPooling1D(pool_size=2))\n",
        "model.add(Convolution1D(32, 3, padding='same'))\n",
        "model.add(MaxPooling1D(pool_size=2))\n",
        "model.add(Convolution1D(16, 3, padding='same'))\n",
        "model.add(MaxPooling1D(pool_size=2))\n",
        "model.add(Convolution1D(8, 3, padding='same'))\n",
        "model.add(Convolution1D(8, 3, padding='same'))\n",
        "model.add(Flatten())\n",
        "model.add(Dropout(0.1))\n",
        "model.add(Dense(180,activation='relu'))\n",
        "#model.add(Dropout(0.2))\n",
        "model.add(Dense(1,activation='sigmoid'))\n",
        "model.compile(loss='binary_crossentropy', optimizer='adam', metrics=['accuracy'])\n",
        "model.fit(x_train_pad, y_train, epochs=2, batch_size = 256)\n",
        "# Evaluation on the test set\n",
        "scores = model.evaluate(x_test_pad, y_test, verbose=0)\n",
        "print(\"Accuracy: %.2f%%\" % (scores[1]*100))"
      ],
      "execution_count": 58,
      "outputs": [
        {
          "output_type": "stream",
          "text": [
            "Epoch 1/2\n",
            "240000/240000 [==============================] - 85s 354us/step - loss: 0.5550 - acc: 0.7107\n",
            "Epoch 2/2\n",
            "240000/240000 [==============================] - 82s 342us/step - loss: 0.5198 - acc: 0.7398\n",
            "Accuracy: 72.24%\n"
          ],
          "name": "stdout"
        }
      ]
    }
  ]
}